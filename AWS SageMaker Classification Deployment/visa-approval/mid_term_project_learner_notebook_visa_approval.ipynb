{
 "cells": [
  {
   "cell_type": "markdown",
   "id": "febe6660-cef2-4e22-901b-e526b05ab729",
   "metadata": {
    "tags": []
   },
   "source": [
    "# MID TERM PROJECT"
   ]
  },
  {
   "cell_type": "markdown",
   "id": "431f8764-3d2a-494e-9b35-5570124cfb9f",
   "metadata": {},
   "source": [
    "Problem Statement:\n",
    "\n",
    "The United States is nowadays facing a huge problem with human resources. Finding the best talent is always a tough job for the human resources department. Companies in the USA are open to hiring highly skilled people both locally and internationally.\n",
    "\n",
    "The Immigration and Nationality Act (INA) of the United States allows foreign workers to come to the country to work on a temporary or permanent basis. The act also protects US workers against adverse impacts on their wages or working conditions by ensuring all the safeguards mentioned in the act. Office of Foreign Labor Certification (OFLC) administers this act.\n",
    "\n",
    "The OFLC (Office of Foreign Labor Certification) processed millions of applications for different positions for temporary and permanent labor certifications. There is a percentage increase in the number of applications as compared to previous years. The process of reviewing every case is becoming a tedious task as the number of applicants increases every year. With an increasing number of applicants each year, a machine learning-based solution that can assist in shortlisting candidates with a higher chance of VISA approval is required. EasyVisa has been hired by OFLC to provide data-driven solutions. As a data scientist at EasyVisa, you must analyze the data provided and, using a classification model, make the visa approval process easier.\n",
    "\n",
    " \n"
   ]
  },
  {
   "cell_type": "markdown",
   "id": "3409b342-32c6-45e2-bd46-6cca0f8fbb2c",
   "metadata": {},
   "source": [
    "Dataset Description:\n",
    "\n",
    "The data contains the different attributes of the employee and the employer. The detailed data dictionary is given below.\n",
    "\n",
    "* case_id: ID of each visa application\n",
    "* continent: Information of continent the employee\n",
    "* education_of_employee: Information of education of the employee\n",
    "* has_job_experience: Does the employee has any job experience? Y= Yes; N = No\n",
    "* requires_job_training: Does the employee require any job training? Y = Yes; N = No\n",
    "* no_of_employees: Number of employees in the employer's company\n",
    "* yr_of_estab: Year in which the employer's company was established\n",
    "* region_of_employment: Information of foreign worker's intended region of employment in the US.\n",
    "* prevailing_wage: Average wage paid to similarly employed workers in a specific occupation in the area of intended employment. The purpose of the prevailing wage is to ensure that the foreign worker is not underpaid compared to other workers offering the same or similar service in the same area of employment.\n",
    "* unit_of_wage: Unit of prevailing wage. Values include Hourly, Weekly, Monthly, and Yearly.\n",
    "* full_time_position: Is the position of work full-time? Y = Full-Time Position; N = Part-Time Position\n",
    "* case_status: Flag indicating if the Visa was certified or denied"
   ]
  },
  {
   "cell_type": "markdown",
   "id": "ef062324-a4fb-474e-aafe-efa14e9abf09",
   "metadata": {
    "tags": []
   },
   "source": [
    "## Data Pre-processing"
   ]
  },
  {
   "cell_type": "markdown",
   "id": "b03f678b-df6a-4659-a1f3-060208a9df8c",
   "metadata": {
    "tags": []
   },
   "source": [
    "#### Import all necessary libraries\n"
   ]
  },
  {
   "cell_type": "code",
   "execution_count": 12,
   "id": "b74cf4ad-b34a-43e3-b20e-37ae8eece938",
   "metadata": {
    "tags": []
   },
   "outputs": [],
   "source": [
    "#Libraries to wrok with data\n",
    "import numpy as np\n",
    "import pandas as pd\n",
    "\n",
    "#Library to work with SageMaker\n",
    "import os\n",
    "import sagemaker\n",
    "import boto3\n",
    "from sagemaker import get_execution_role\n",
    "from sagemaker.inputs import TrainingInput\n",
    "\n",
    "#Package for data pre-processing\n",
    "from sklearn.preprocessing import LabelEncoder, StandardScaler\n",
    "from sklearn.model_selection import train_test_split\n",
    "from sagemaker.serializers import CSVSerializer"
   ]
  },
  {
   "cell_type": "markdown",
   "id": "3908c9eb-d89f-4024-af7d-94b3ea3bfec3",
   "metadata": {
    "tags": []
   },
   "source": [
    "#### Create the S3 bucket and read the dataset from S3 Bucket"
   ]
  },
  {
   "cell_type": "code",
   "execution_count": 13,
   "id": "0a1f9018-f26f-4304-b7c5-86466418cd80",
   "metadata": {
    "tags": []
   },
   "outputs": [],
   "source": [
    "#Create S3 bucket\n",
    "role = get_execution_role()\n",
    "sess = sagemaker.Session()\n",
    "#Set S3 bucket\n",
    "bucket = sess.default_bucket()\n",
    "prefix = \"mid-term\"\n",
    "#Set up S3 client\n",
    "s3_client = boto3.client(\"s3\")"
   ]
  },
  {
   "cell_type": "markdown",
   "id": "2ce53998-e88e-417e-9dcb-e24986b5a24a",
   "metadata": {
    "tags": []
   },
   "source": [
    "#### Read data from S3. (Upload the data into S3 Bucket manually and with the help of code read the data from the S3 Bucket)\n",
    "Note: \n",
    "* Keep the target column at first place in the dataframe\n",
    "* Drop the column 'case_id'\n",
    "* Replace the value of Denied with 0 and Certified with 1 in the case_status column\n",
    "* Apply the lable encoding"
   ]
  },
  {
   "cell_type": "code",
   "execution_count": 14,
   "id": "4d094d3e-bbf3-4564-a226-342a6c3ccf7f",
   "metadata": {
    "tags": []
   },
   "outputs": [
    {
     "data": {
      "text/html": [
       "<div>\n",
       "<style scoped>\n",
       "    .dataframe tbody tr th:only-of-type {\n",
       "        vertical-align: middle;\n",
       "    }\n",
       "\n",
       "    .dataframe tbody tr th {\n",
       "        vertical-align: top;\n",
       "    }\n",
       "\n",
       "    .dataframe thead th {\n",
       "        text-align: right;\n",
       "    }\n",
       "</style>\n",
       "<table border=\"1\" class=\"dataframe\">\n",
       "  <thead>\n",
       "    <tr style=\"text-align: right;\">\n",
       "      <th></th>\n",
       "      <th>case_id</th>\n",
       "      <th>continent</th>\n",
       "      <th>education_of_employee</th>\n",
       "      <th>has_job_experience</th>\n",
       "      <th>requires_job_training</th>\n",
       "      <th>no_of_employees</th>\n",
       "      <th>yr_of_estab</th>\n",
       "      <th>region_of_employment</th>\n",
       "      <th>prevailing_wage</th>\n",
       "      <th>unit_of_wage</th>\n",
       "      <th>full_time_position</th>\n",
       "      <th>case_status</th>\n",
       "    </tr>\n",
       "  </thead>\n",
       "  <tbody>\n",
       "    <tr>\n",
       "      <th>0</th>\n",
       "      <td>EZYV01</td>\n",
       "      <td>Asia</td>\n",
       "      <td>High School</td>\n",
       "      <td>N</td>\n",
       "      <td>N</td>\n",
       "      <td>14513</td>\n",
       "      <td>2007</td>\n",
       "      <td>West</td>\n",
       "      <td>592.2029</td>\n",
       "      <td>Hour</td>\n",
       "      <td>Y</td>\n",
       "      <td>Denied</td>\n",
       "    </tr>\n",
       "    <tr>\n",
       "      <th>1</th>\n",
       "      <td>EZYV02</td>\n",
       "      <td>Asia</td>\n",
       "      <td>Master's</td>\n",
       "      <td>Y</td>\n",
       "      <td>N</td>\n",
       "      <td>2412</td>\n",
       "      <td>2002</td>\n",
       "      <td>Northeast</td>\n",
       "      <td>83425.6500</td>\n",
       "      <td>Year</td>\n",
       "      <td>Y</td>\n",
       "      <td>Certified</td>\n",
       "    </tr>\n",
       "    <tr>\n",
       "      <th>2</th>\n",
       "      <td>EZYV03</td>\n",
       "      <td>Asia</td>\n",
       "      <td>Bachelor's</td>\n",
       "      <td>N</td>\n",
       "      <td>Y</td>\n",
       "      <td>44444</td>\n",
       "      <td>2008</td>\n",
       "      <td>West</td>\n",
       "      <td>122996.8600</td>\n",
       "      <td>Year</td>\n",
       "      <td>Y</td>\n",
       "      <td>Denied</td>\n",
       "    </tr>\n",
       "    <tr>\n",
       "      <th>3</th>\n",
       "      <td>EZYV04</td>\n",
       "      <td>Asia</td>\n",
       "      <td>Bachelor's</td>\n",
       "      <td>N</td>\n",
       "      <td>N</td>\n",
       "      <td>98</td>\n",
       "      <td>1897</td>\n",
       "      <td>West</td>\n",
       "      <td>83434.0300</td>\n",
       "      <td>Year</td>\n",
       "      <td>Y</td>\n",
       "      <td>Denied</td>\n",
       "    </tr>\n",
       "    <tr>\n",
       "      <th>4</th>\n",
       "      <td>EZYV05</td>\n",
       "      <td>Africa</td>\n",
       "      <td>Master's</td>\n",
       "      <td>Y</td>\n",
       "      <td>N</td>\n",
       "      <td>1082</td>\n",
       "      <td>2005</td>\n",
       "      <td>South</td>\n",
       "      <td>149907.3900</td>\n",
       "      <td>Year</td>\n",
       "      <td>Y</td>\n",
       "      <td>Certified</td>\n",
       "    </tr>\n",
       "  </tbody>\n",
       "</table>\n",
       "</div>"
      ],
      "text/plain": [
       "  case_id continent education_of_employee has_job_experience  \\\n",
       "0  EZYV01      Asia           High School                  N   \n",
       "1  EZYV02      Asia              Master's                  Y   \n",
       "2  EZYV03      Asia            Bachelor's                  N   \n",
       "3  EZYV04      Asia            Bachelor's                  N   \n",
       "4  EZYV05    Africa              Master's                  Y   \n",
       "\n",
       "  requires_job_training  no_of_employees  yr_of_estab region_of_employment  \\\n",
       "0                     N            14513         2007                 West   \n",
       "1                     N             2412         2002            Northeast   \n",
       "2                     Y            44444         2008                 West   \n",
       "3                     N               98         1897                 West   \n",
       "4                     N             1082         2005                South   \n",
       "\n",
       "   prevailing_wage unit_of_wage full_time_position case_status  \n",
       "0         592.2029         Hour                  Y      Denied  \n",
       "1       83425.6500         Year                  Y   Certified  \n",
       "2      122996.8600         Year                  Y      Denied  \n",
       "3       83434.0300         Year                  Y      Denied  \n",
       "4      149907.3900         Year                  Y   Certified  "
      ]
     },
     "execution_count": 14,
     "metadata": {},
     "output_type": "execute_result"
    }
   ],
   "source": [
    "#Read the dataset from S3\n",
    "data = pd.read_csv(s3_client.get_object(Bucket=bucket, Key=\"EasyVisa.csv\").get(\"Body\"))\n",
    "data.head()"
   ]
  },
  {
   "cell_type": "code",
   "execution_count": 15,
   "id": "01cbf925-5a42-4f62-99f5-2022b9cdac6c",
   "metadata": {
    "tags": []
   },
   "outputs": [
    {
     "data": {
      "text/html": [
       "<div>\n",
       "<style scoped>\n",
       "    .dataframe tbody tr th:only-of-type {\n",
       "        vertical-align: middle;\n",
       "    }\n",
       "\n",
       "    .dataframe tbody tr th {\n",
       "        vertical-align: top;\n",
       "    }\n",
       "\n",
       "    .dataframe thead th {\n",
       "        text-align: right;\n",
       "    }\n",
       "</style>\n",
       "<table border=\"1\" class=\"dataframe\">\n",
       "  <thead>\n",
       "    <tr style=\"text-align: right;\">\n",
       "      <th></th>\n",
       "      <th>continent</th>\n",
       "      <th>education_of_employee</th>\n",
       "      <th>has_job_experience</th>\n",
       "      <th>requires_job_training</th>\n",
       "      <th>no_of_employees</th>\n",
       "      <th>yr_of_estab</th>\n",
       "      <th>region_of_employment</th>\n",
       "      <th>prevailing_wage</th>\n",
       "      <th>unit_of_wage</th>\n",
       "      <th>full_time_position</th>\n",
       "      <th>case_status</th>\n",
       "    </tr>\n",
       "  </thead>\n",
       "  <tbody>\n",
       "    <tr>\n",
       "      <th>0</th>\n",
       "      <td>Asia</td>\n",
       "      <td>High School</td>\n",
       "      <td>N</td>\n",
       "      <td>N</td>\n",
       "      <td>14513</td>\n",
       "      <td>2007</td>\n",
       "      <td>West</td>\n",
       "      <td>592.2029</td>\n",
       "      <td>Hour</td>\n",
       "      <td>Y</td>\n",
       "      <td>Denied</td>\n",
       "    </tr>\n",
       "    <tr>\n",
       "      <th>1</th>\n",
       "      <td>Asia</td>\n",
       "      <td>Master's</td>\n",
       "      <td>Y</td>\n",
       "      <td>N</td>\n",
       "      <td>2412</td>\n",
       "      <td>2002</td>\n",
       "      <td>Northeast</td>\n",
       "      <td>83425.6500</td>\n",
       "      <td>Year</td>\n",
       "      <td>Y</td>\n",
       "      <td>Certified</td>\n",
       "    </tr>\n",
       "    <tr>\n",
       "      <th>2</th>\n",
       "      <td>Asia</td>\n",
       "      <td>Bachelor's</td>\n",
       "      <td>N</td>\n",
       "      <td>Y</td>\n",
       "      <td>44444</td>\n",
       "      <td>2008</td>\n",
       "      <td>West</td>\n",
       "      <td>122996.8600</td>\n",
       "      <td>Year</td>\n",
       "      <td>Y</td>\n",
       "      <td>Denied</td>\n",
       "    </tr>\n",
       "    <tr>\n",
       "      <th>3</th>\n",
       "      <td>Asia</td>\n",
       "      <td>Bachelor's</td>\n",
       "      <td>N</td>\n",
       "      <td>N</td>\n",
       "      <td>98</td>\n",
       "      <td>1897</td>\n",
       "      <td>West</td>\n",
       "      <td>83434.0300</td>\n",
       "      <td>Year</td>\n",
       "      <td>Y</td>\n",
       "      <td>Denied</td>\n",
       "    </tr>\n",
       "    <tr>\n",
       "      <th>4</th>\n",
       "      <td>Africa</td>\n",
       "      <td>Master's</td>\n",
       "      <td>Y</td>\n",
       "      <td>N</td>\n",
       "      <td>1082</td>\n",
       "      <td>2005</td>\n",
       "      <td>South</td>\n",
       "      <td>149907.3900</td>\n",
       "      <td>Year</td>\n",
       "      <td>Y</td>\n",
       "      <td>Certified</td>\n",
       "    </tr>\n",
       "  </tbody>\n",
       "</table>\n",
       "</div>"
      ],
      "text/plain": [
       "  continent education_of_employee has_job_experience requires_job_training  \\\n",
       "0      Asia           High School                  N                     N   \n",
       "1      Asia              Master's                  Y                     N   \n",
       "2      Asia            Bachelor's                  N                     Y   \n",
       "3      Asia            Bachelor's                  N                     N   \n",
       "4    Africa              Master's                  Y                     N   \n",
       "\n",
       "   no_of_employees  yr_of_estab region_of_employment  prevailing_wage  \\\n",
       "0            14513         2007                 West         592.2029   \n",
       "1             2412         2002            Northeast       83425.6500   \n",
       "2            44444         2008                 West      122996.8600   \n",
       "3               98         1897                 West       83434.0300   \n",
       "4             1082         2005                South      149907.3900   \n",
       "\n",
       "  unit_of_wage full_time_position case_status  \n",
       "0         Hour                  Y      Denied  \n",
       "1         Year                  Y   Certified  \n",
       "2         Year                  Y      Denied  \n",
       "3         Year                  Y      Denied  \n",
       "4         Year                  Y   Certified  "
      ]
     },
     "execution_count": 15,
     "metadata": {},
     "output_type": "execute_result"
    }
   ],
   "source": [
    "# drop the case_id column\n",
    "data.drop('case_id', inplace=True, axis=1)\n",
    "data.head()"
   ]
  },
  {
   "cell_type": "code",
   "execution_count": 16,
   "id": "3a6ba485-9098-4828-9fb9-5ff2544eafad",
   "metadata": {
    "tags": []
   },
   "outputs": [
    {
     "data": {
      "text/html": [
       "<div>\n",
       "<style scoped>\n",
       "    .dataframe tbody tr th:only-of-type {\n",
       "        vertical-align: middle;\n",
       "    }\n",
       "\n",
       "    .dataframe tbody tr th {\n",
       "        vertical-align: top;\n",
       "    }\n",
       "\n",
       "    .dataframe thead th {\n",
       "        text-align: right;\n",
       "    }\n",
       "</style>\n",
       "<table border=\"1\" class=\"dataframe\">\n",
       "  <thead>\n",
       "    <tr style=\"text-align: right;\">\n",
       "      <th></th>\n",
       "      <th>case_status</th>\n",
       "      <th>continent</th>\n",
       "      <th>education_of_employee</th>\n",
       "      <th>has_job_experience</th>\n",
       "      <th>requires_job_training</th>\n",
       "      <th>no_of_employees</th>\n",
       "      <th>yr_of_estab</th>\n",
       "      <th>region_of_employment</th>\n",
       "      <th>prevailing_wage</th>\n",
       "      <th>unit_of_wage</th>\n",
       "      <th>full_time_position</th>\n",
       "    </tr>\n",
       "  </thead>\n",
       "  <tbody>\n",
       "    <tr>\n",
       "      <th>0</th>\n",
       "      <td>Denied</td>\n",
       "      <td>Asia</td>\n",
       "      <td>High School</td>\n",
       "      <td>N</td>\n",
       "      <td>N</td>\n",
       "      <td>14513</td>\n",
       "      <td>2007</td>\n",
       "      <td>West</td>\n",
       "      <td>592.2029</td>\n",
       "      <td>Hour</td>\n",
       "      <td>Y</td>\n",
       "    </tr>\n",
       "    <tr>\n",
       "      <th>1</th>\n",
       "      <td>Certified</td>\n",
       "      <td>Asia</td>\n",
       "      <td>Master's</td>\n",
       "      <td>Y</td>\n",
       "      <td>N</td>\n",
       "      <td>2412</td>\n",
       "      <td>2002</td>\n",
       "      <td>Northeast</td>\n",
       "      <td>83425.6500</td>\n",
       "      <td>Year</td>\n",
       "      <td>Y</td>\n",
       "    </tr>\n",
       "    <tr>\n",
       "      <th>2</th>\n",
       "      <td>Denied</td>\n",
       "      <td>Asia</td>\n",
       "      <td>Bachelor's</td>\n",
       "      <td>N</td>\n",
       "      <td>Y</td>\n",
       "      <td>44444</td>\n",
       "      <td>2008</td>\n",
       "      <td>West</td>\n",
       "      <td>122996.8600</td>\n",
       "      <td>Year</td>\n",
       "      <td>Y</td>\n",
       "    </tr>\n",
       "    <tr>\n",
       "      <th>3</th>\n",
       "      <td>Denied</td>\n",
       "      <td>Asia</td>\n",
       "      <td>Bachelor's</td>\n",
       "      <td>N</td>\n",
       "      <td>N</td>\n",
       "      <td>98</td>\n",
       "      <td>1897</td>\n",
       "      <td>West</td>\n",
       "      <td>83434.0300</td>\n",
       "      <td>Year</td>\n",
       "      <td>Y</td>\n",
       "    </tr>\n",
       "    <tr>\n",
       "      <th>4</th>\n",
       "      <td>Certified</td>\n",
       "      <td>Africa</td>\n",
       "      <td>Master's</td>\n",
       "      <td>Y</td>\n",
       "      <td>N</td>\n",
       "      <td>1082</td>\n",
       "      <td>2005</td>\n",
       "      <td>South</td>\n",
       "      <td>149907.3900</td>\n",
       "      <td>Year</td>\n",
       "      <td>Y</td>\n",
       "    </tr>\n",
       "  </tbody>\n",
       "</table>\n",
       "</div>"
      ],
      "text/plain": [
       "  case_status continent education_of_employee has_job_experience  \\\n",
       "0      Denied      Asia           High School                  N   \n",
       "1   Certified      Asia              Master's                  Y   \n",
       "2      Denied      Asia            Bachelor's                  N   \n",
       "3      Denied      Asia            Bachelor's                  N   \n",
       "4   Certified    Africa              Master's                  Y   \n",
       "\n",
       "  requires_job_training  no_of_employees  yr_of_estab region_of_employment  \\\n",
       "0                     N            14513         2007                 West   \n",
       "1                     N             2412         2002            Northeast   \n",
       "2                     Y            44444         2008                 West   \n",
       "3                     N               98         1897                 West   \n",
       "4                     N             1082         2005                South   \n",
       "\n",
       "   prevailing_wage unit_of_wage full_time_position  \n",
       "0         592.2029         Hour                  Y  \n",
       "1       83425.6500         Year                  Y  \n",
       "2      122996.8600         Year                  Y  \n",
       "3       83434.0300         Year                  Y  \n",
       "4      149907.3900         Year                  Y  "
      ]
     },
     "execution_count": 16,
     "metadata": {},
     "output_type": "execute_result"
    }
   ],
   "source": [
    "# Keep the target variables in the 1st position of dataframe \n",
    "#shift case_status in the first column\n",
    "first_column = data.pop('case_status')\n",
    "#insert case_status to column1\n",
    "data.insert(0,'case_status',first_column)\n",
    "data.head()"
   ]
  },
  {
   "cell_type": "markdown",
   "id": "54963a1d-a851-4078-8926-ad47c8aa47b9",
   "metadata": {},
   "source": [
    "Now we have the case_status, which is our target variable in the first column"
   ]
  },
  {
   "cell_type": "code",
   "execution_count": 17,
   "id": "6eed8ed4-38da-4a1f-8442-fd7ab2b7d7e3",
   "metadata": {
    "tags": []
   },
   "outputs": [],
   "source": [
    "#Replaced the value of Denied with 0 and Certified with 1\n",
    "data['case_status'] = data['case_status'].replace({'Denied' : 0, 'Certified' : 1})"
   ]
  },
  {
   "cell_type": "code",
   "execution_count": 18,
   "id": "279f9c14-6fcf-45c5-8bc9-2890e76b9d3d",
   "metadata": {
    "tags": []
   },
   "outputs": [
    {
     "data": {
      "text/html": [
       "<div>\n",
       "<style scoped>\n",
       "    .dataframe tbody tr th:only-of-type {\n",
       "        vertical-align: middle;\n",
       "    }\n",
       "\n",
       "    .dataframe tbody tr th {\n",
       "        vertical-align: top;\n",
       "    }\n",
       "\n",
       "    .dataframe thead th {\n",
       "        text-align: right;\n",
       "    }\n",
       "</style>\n",
       "<table border=\"1\" class=\"dataframe\">\n",
       "  <thead>\n",
       "    <tr style=\"text-align: right;\">\n",
       "      <th></th>\n",
       "      <th>case_status</th>\n",
       "      <th>continent</th>\n",
       "      <th>education_of_employee</th>\n",
       "      <th>has_job_experience</th>\n",
       "      <th>requires_job_training</th>\n",
       "      <th>no_of_employees</th>\n",
       "      <th>yr_of_estab</th>\n",
       "      <th>region_of_employment</th>\n",
       "      <th>prevailing_wage</th>\n",
       "      <th>unit_of_wage</th>\n",
       "      <th>full_time_position</th>\n",
       "    </tr>\n",
       "  </thead>\n",
       "  <tbody>\n",
       "    <tr>\n",
       "      <th>0</th>\n",
       "      <td>0</td>\n",
       "      <td>Asia</td>\n",
       "      <td>High School</td>\n",
       "      <td>N</td>\n",
       "      <td>N</td>\n",
       "      <td>14513</td>\n",
       "      <td>2007</td>\n",
       "      <td>West</td>\n",
       "      <td>592.2029</td>\n",
       "      <td>Hour</td>\n",
       "      <td>Y</td>\n",
       "    </tr>\n",
       "    <tr>\n",
       "      <th>1</th>\n",
       "      <td>1</td>\n",
       "      <td>Asia</td>\n",
       "      <td>Master's</td>\n",
       "      <td>Y</td>\n",
       "      <td>N</td>\n",
       "      <td>2412</td>\n",
       "      <td>2002</td>\n",
       "      <td>Northeast</td>\n",
       "      <td>83425.6500</td>\n",
       "      <td>Year</td>\n",
       "      <td>Y</td>\n",
       "    </tr>\n",
       "    <tr>\n",
       "      <th>2</th>\n",
       "      <td>0</td>\n",
       "      <td>Asia</td>\n",
       "      <td>Bachelor's</td>\n",
       "      <td>N</td>\n",
       "      <td>Y</td>\n",
       "      <td>44444</td>\n",
       "      <td>2008</td>\n",
       "      <td>West</td>\n",
       "      <td>122996.8600</td>\n",
       "      <td>Year</td>\n",
       "      <td>Y</td>\n",
       "    </tr>\n",
       "    <tr>\n",
       "      <th>3</th>\n",
       "      <td>0</td>\n",
       "      <td>Asia</td>\n",
       "      <td>Bachelor's</td>\n",
       "      <td>N</td>\n",
       "      <td>N</td>\n",
       "      <td>98</td>\n",
       "      <td>1897</td>\n",
       "      <td>West</td>\n",
       "      <td>83434.0300</td>\n",
       "      <td>Year</td>\n",
       "      <td>Y</td>\n",
       "    </tr>\n",
       "    <tr>\n",
       "      <th>4</th>\n",
       "      <td>1</td>\n",
       "      <td>Africa</td>\n",
       "      <td>Master's</td>\n",
       "      <td>Y</td>\n",
       "      <td>N</td>\n",
       "      <td>1082</td>\n",
       "      <td>2005</td>\n",
       "      <td>South</td>\n",
       "      <td>149907.3900</td>\n",
       "      <td>Year</td>\n",
       "      <td>Y</td>\n",
       "    </tr>\n",
       "  </tbody>\n",
       "</table>\n",
       "</div>"
      ],
      "text/plain": [
       "   case_status continent education_of_employee has_job_experience  \\\n",
       "0            0      Asia           High School                  N   \n",
       "1            1      Asia              Master's                  Y   \n",
       "2            0      Asia            Bachelor's                  N   \n",
       "3            0      Asia            Bachelor's                  N   \n",
       "4            1    Africa              Master's                  Y   \n",
       "\n",
       "  requires_job_training  no_of_employees  yr_of_estab region_of_employment  \\\n",
       "0                     N            14513         2007                 West   \n",
       "1                     N             2412         2002            Northeast   \n",
       "2                     Y            44444         2008                 West   \n",
       "3                     N               98         1897                 West   \n",
       "4                     N             1082         2005                South   \n",
       "\n",
       "   prevailing_wage unit_of_wage full_time_position  \n",
       "0         592.2029         Hour                  Y  \n",
       "1       83425.6500         Year                  Y  \n",
       "2      122996.8600         Year                  Y  \n",
       "3       83434.0300         Year                  Y  \n",
       "4      149907.3900         Year                  Y  "
      ]
     },
     "execution_count": 18,
     "metadata": {},
     "output_type": "execute_result"
    }
   ],
   "source": [
    "data.head()"
   ]
  },
  {
   "cell_type": "markdown",
   "id": "e779c58b-c2ce-406f-a458-8e2c3aa69e5e",
   "metadata": {},
   "source": [
    "We can now see that \"Denied\" is replaced by 0 and \"Certified\" is replaced by 1 in column \"case_status\""
   ]
  },
  {
   "cell_type": "code",
   "execution_count": 19,
   "id": "faffaa04-a696-4a58-bbfa-57eb52378eb1",
   "metadata": {
    "tags": []
   },
   "outputs": [],
   "source": [
    "#Apply label encoding on categorical data\n",
    "en_data = data.apply(LabelEncoder().fit_transform)"
   ]
  },
  {
   "cell_type": "code",
   "execution_count": 20,
   "id": "ba0e2aed-9e29-4f18-b56e-8bafe3395b03",
   "metadata": {
    "tags": []
   },
   "outputs": [
    {
     "data": {
      "text/html": [
       "<div>\n",
       "<style scoped>\n",
       "    .dataframe tbody tr th:only-of-type {\n",
       "        vertical-align: middle;\n",
       "    }\n",
       "\n",
       "    .dataframe tbody tr th {\n",
       "        vertical-align: top;\n",
       "    }\n",
       "\n",
       "    .dataframe thead th {\n",
       "        text-align: right;\n",
       "    }\n",
       "</style>\n",
       "<table border=\"1\" class=\"dataframe\">\n",
       "  <thead>\n",
       "    <tr style=\"text-align: right;\">\n",
       "      <th></th>\n",
       "      <th>case_status</th>\n",
       "      <th>continent</th>\n",
       "      <th>education_of_employee</th>\n",
       "      <th>has_job_experience</th>\n",
       "      <th>requires_job_training</th>\n",
       "      <th>no_of_employees</th>\n",
       "      <th>yr_of_estab</th>\n",
       "      <th>region_of_employment</th>\n",
       "      <th>prevailing_wage</th>\n",
       "      <th>unit_of_wage</th>\n",
       "      <th>full_time_position</th>\n",
       "    </tr>\n",
       "  </thead>\n",
       "  <tbody>\n",
       "    <tr>\n",
       "      <th>0</th>\n",
       "      <td>0</td>\n",
       "      <td>1</td>\n",
       "      <td>2</td>\n",
       "      <td>0</td>\n",
       "      <td>0</td>\n",
       "      <td>5853</td>\n",
       "      <td>189</td>\n",
       "      <td>4</td>\n",
       "      <td>1587</td>\n",
       "      <td>0</td>\n",
       "      <td>1</td>\n",
       "    </tr>\n",
       "    <tr>\n",
       "      <th>1</th>\n",
       "      <td>1</td>\n",
       "      <td>1</td>\n",
       "      <td>3</td>\n",
       "      <td>1</td>\n",
       "      <td>0</td>\n",
       "      <td>2391</td>\n",
       "      <td>184</td>\n",
       "      <td>2</td>\n",
       "      <td>15091</td>\n",
       "      <td>3</td>\n",
       "      <td>1</td>\n",
       "    </tr>\n",
       "    <tr>\n",
       "      <th>2</th>\n",
       "      <td>0</td>\n",
       "      <td>1</td>\n",
       "      <td>0</td>\n",
       "      <td>0</td>\n",
       "      <td>1</td>\n",
       "      <td>6495</td>\n",
       "      <td>190</td>\n",
       "      <td>4</td>\n",
       "      <td>21194</td>\n",
       "      <td>3</td>\n",
       "      <td>1</td>\n",
       "    </tr>\n",
       "    <tr>\n",
       "      <th>3</th>\n",
       "      <td>0</td>\n",
       "      <td>1</td>\n",
       "      <td>0</td>\n",
       "      <td>0</td>\n",
       "      <td>0</td>\n",
       "      <td>87</td>\n",
       "      <td>79</td>\n",
       "      <td>4</td>\n",
       "      <td>15095</td>\n",
       "      <td>3</td>\n",
       "      <td>1</td>\n",
       "    </tr>\n",
       "    <tr>\n",
       "      <th>4</th>\n",
       "      <td>1</td>\n",
       "      <td>0</td>\n",
       "      <td>3</td>\n",
       "      <td>1</td>\n",
       "      <td>0</td>\n",
       "      <td>1069</td>\n",
       "      <td>187</td>\n",
       "      <td>3</td>\n",
       "      <td>23611</td>\n",
       "      <td>3</td>\n",
       "      <td>1</td>\n",
       "    </tr>\n",
       "  </tbody>\n",
       "</table>\n",
       "</div>"
      ],
      "text/plain": [
       "   case_status  continent  education_of_employee  has_job_experience  \\\n",
       "0            0          1                      2                   0   \n",
       "1            1          1                      3                   1   \n",
       "2            0          1                      0                   0   \n",
       "3            0          1                      0                   0   \n",
       "4            1          0                      3                   1   \n",
       "\n",
       "   requires_job_training  no_of_employees  yr_of_estab  region_of_employment  \\\n",
       "0                      0             5853          189                     4   \n",
       "1                      0             2391          184                     2   \n",
       "2                      1             6495          190                     4   \n",
       "3                      0               87           79                     4   \n",
       "4                      0             1069          187                     3   \n",
       "\n",
       "   prevailing_wage  unit_of_wage  full_time_position  \n",
       "0             1587             0                   1  \n",
       "1            15091             3                   1  \n",
       "2            21194             3                   1  \n",
       "3            15095             3                   1  \n",
       "4            23611             3                   1  "
      ]
     },
     "execution_count": 20,
     "metadata": {},
     "output_type": "execute_result"
    }
   ],
   "source": [
    "en_data.head()"
   ]
  },
  {
   "cell_type": "markdown",
   "id": "7652c365-0f0a-4140-a428-496da0e11af5",
   "metadata": {},
   "source": [
    "After encoding categorical data, we can now see that all column has numerical value."
   ]
  },
  {
   "cell_type": "markdown",
   "id": "423e0ac3-7132-4d89-874b-a007de62f543",
   "metadata": {},
   "source": [
    "#### Split data and upload back to S3"
   ]
  },
  {
   "cell_type": "code",
   "execution_count": 21,
   "id": "f5e24540-0e9e-49b4-a831-1157a879fc04",
   "metadata": {
    "tags": []
   },
   "outputs": [],
   "source": [
    "# Split data into train, validation and test set\n",
    "train_data, validation_data = train_test_split(en_data, test_size=0.3, random_state=1)\n",
    "\n",
    "# Write the train and validation dataframe to sagemaker file browser\n",
    "train_data.to_csv(\"datasets/train.csv\", header=False, index=False)\n",
    "validation_data.to_csv(\"datasets/validation.csv\", header=False, index=False)"
   ]
  },
  {
   "cell_type": "markdown",
   "id": "52b3f111-42cd-49d6-8bf1-deca80841075",
   "metadata": {
    "tags": []
   },
   "source": [
    "#### Upload into S3 (checkpoint)\n",
    "\n",
    "Let's checkpoint the train and validation datasets into the S3 Bucket, so we can fallback in case we need them again"
   ]
  },
  {
   "cell_type": "code",
   "execution_count": 22,
   "id": "125bd0a2-f825-47ca-862c-321139f6a4cf",
   "metadata": {
    "tags": []
   },
   "outputs": [],
   "source": [
    "import os\n",
    "#Upload train.csv to s3\n",
    "boto3.Session().resource(\"s3\").Bucket(bucket).Object(\n",
    "    os.path.join(prefix, \"train/train.csv\")\n",
    ").upload_file(\"datasets/train.csv\")\n",
    "\n",
    "#Upload validation.csv to s3\n",
    "\n",
    "boto3.Session().resource(\"s3\").Bucket(bucket).Object(\n",
    "    os.path.join(prefix, \"validation/validation.csv\")\n",
    ").upload_file(\"datasets/validation.csv\")\n",
    "                                                     "
   ]
  },
  {
   "cell_type": "markdown",
   "id": "23bf65cc-2cca-4497-af46-f5e10e54ad9d",
   "metadata": {
    "tags": []
   },
   "source": [
    "## Training, Tuning and Deploying the model"
   ]
  },
  {
   "cell_type": "markdown",
   "id": "2c55f6b7-66c7-4a2f-a414-554eb3eecbb0",
   "metadata": {
    "tags": []
   },
   "source": [
    "### Model Training"
   ]
  },
  {
   "cell_type": "markdown",
   "id": "8f04fa39-e238-4bc5-b34e-6837a45a2392",
   "metadata": {},
   "source": [
    "#### Get the container image for Xgboost"
   ]
  },
  {
   "cell_type": "code",
   "execution_count": 23,
   "id": "53a3c31d-d3b0-4bff-982a-29966af81de8",
   "metadata": {
    "tags": []
   },
   "outputs": [],
   "source": [
    "#set he version of xgboost\n",
    "model_name = \"xgboost\"\n",
    "image_version = \"1.5-1\""
   ]
  },
  {
   "cell_type": "code",
   "execution_count": 24,
   "id": "2bdc2316-52e5-4919-bc3d-176a35f8d0e2",
   "metadata": {
    "tags": []
   },
   "outputs": [
    {
     "data": {
      "text/plain": [
       "'683313688378.dkr.ecr.us-east-1.amazonaws.com/sagemaker-xgboost:1.5-1'"
      ]
     },
     "metadata": {},
     "output_type": "display_data"
    }
   ],
   "source": [
    "#Create container variable\n",
    "sess = sagemaker.Session()\n",
    "container = sagemaker.image_uris.retrieve(model_name, sess.boto_region_name, image_version)\n",
    "display(container)"
   ]
  },
  {
   "cell_type": "markdown",
   "id": "fe644da0-ded3-4c97-b26a-78b123252004",
   "metadata": {},
   "source": [
    "#### Set the training configuration"
   ]
  },
  {
   "cell_type": "code",
   "execution_count": 25,
   "id": "68f5ce9a-1b70-46f7-be78-99232afcf9e2",
   "metadata": {
    "tags": []
   },
   "outputs": [],
   "source": [
    "#Input training data\n",
    "input_train = TrainingInput(\n",
    "    s3_data=\"s3://{}/{}/train\".format(bucket, prefix), content_type=\"csv\")\n",
    "# Input validation data\n",
    "input_validation = TrainingInput(\n",
    "    s3_data=\"s3://{}/{}/validation/\".format(bucket, prefix), content_type=\"csv\")"
   ]
  },
  {
   "cell_type": "markdown",
   "id": "26b6bfb7-406d-487f-9b56-5872195b6dbc",
   "metadata": {
    "tags": []
   },
   "source": [
    "#### Train Classification Model (inbuilt XG-Boost model) using the data"
   ]
  },
  {
   "cell_type": "code",
   "execution_count": 26,
   "id": "89b870ea-2a60-4b08-9be3-c7cfe4ed9bc4",
   "metadata": {
    "tags": []
   },
   "outputs": [],
   "source": [
    "xgb = sagemaker.estimator.Estimator(\n",
    "    container,\n",
    "    role,\n",
    "    instance_count=1,\n",
    "    instance_type=\"ml.m4.xlarge\",\n",
    "    output_path=\"s3://{}/{}/output\".format(bucket, prefix),\n",
    "    sagemaker_session=sess,\n",
    ")\n"
   ]
  },
  {
   "cell_type": "code",
   "execution_count": 27,
   "id": "8395c716-bf8c-48e6-82bd-372d961be4ec",
   "metadata": {
    "tags": []
   },
   "outputs": [],
   "source": [
    "xgb.set_hyperparameters(\n",
    "    max_depth=5,\n",
    "    eta=0.2,\n",
    "    gamma=4,\n",
    "    min_child_weight=6,\n",
    "    subsample=0.8,\n",
    "    verbosity=0,\n",
    "    objective=\"binary:logistic\", # the output will be a probability score\n",
    "    num_round=100,\n",
    ")"
   ]
  },
  {
   "cell_type": "code",
   "execution_count": 28,
   "id": "20fe7cbf-c2c0-4b83-bec1-58d9c514709b",
   "metadata": {
    "tags": []
   },
   "outputs": [
    {
     "name": "stdout",
     "output_type": "stream",
     "text": [
      "2023-01-05 18:30:42 Starting - Starting the training job...ProfilerReport-1672943442: InProgress\n",
      "...\n",
      "2023-01-05 18:31:22 Starting - Preparing the instances for training............\n",
      "2023-01-05 18:33:31 Downloading - Downloading input data...\n",
      "2023-01-05 18:34:11 Training - Downloading the training image..\u001b[34m[2023-01-05 18:34:19.622 ip-10-0-176-199.ec2.internal:6 INFO utils.py:27] RULE_JOB_STOP_SIGNAL_FILENAME: None\u001b[0m\n",
      "\u001b[34m[2023-01-05:18:34:19:INFO] Imported framework sagemaker_xgboost_container.training\u001b[0m\n",
      "\u001b[34m[2023-01-05:18:34:19:INFO] Failed to parse hyperparameter objective value binary:logistic to Json.\u001b[0m\n",
      "\u001b[34mReturning the value itself\u001b[0m\n",
      "\u001b[34m[2023-01-05:18:34:19:INFO] No GPUs detected (normal if no gpus installed)\u001b[0m\n",
      "\u001b[34m[2023-01-05:18:34:19:INFO] Running XGBoost Sagemaker in algorithm mode\u001b[0m\n",
      "\u001b[34m[2023-01-05:18:34:19:INFO] Determined delimiter of CSV input is ','\u001b[0m\n",
      "\u001b[34m[2023-01-05:18:34:19:INFO] Determined delimiter of CSV input is ','\u001b[0m\n",
      "\u001b[34m[2023-01-05:18:34:19:INFO] files path: /opt/ml/input/data/train\u001b[0m\n",
      "\u001b[34m[2023-01-05:18:34:19:INFO] Determined delimiter of CSV input is ','\u001b[0m\n",
      "\u001b[34m[2023-01-05:18:34:19:INFO] files path: /opt/ml/input/data/validation\u001b[0m\n",
      "\u001b[34m[2023-01-05:18:34:19:INFO] Determined delimiter of CSV input is ','\u001b[0m\n",
      "\u001b[34m[2023-01-05:18:34:19:INFO] Single node training.\u001b[0m\n",
      "\u001b[34m[2023-01-05:18:34:19:INFO] Train matrix has 17836 rows and 10 columns\u001b[0m\n",
      "\u001b[34m[2023-01-05:18:34:19:INFO] Validation matrix has 7644 rows\u001b[0m\n",
      "\u001b[34m[2023-01-05 18:34:19.718 ip-10-0-176-199.ec2.internal:6 INFO json_config.py:91] Creating hook from json_config at /opt/ml/input/config/debughookconfig.json.\u001b[0m\n",
      "\u001b[34m[0]#011train-logloss:0.64160#011validation-logloss:0.64152\u001b[0m\n",
      "\u001b[34m[1]#011train-logloss:0.60764#011validation-logloss:0.60752\u001b[0m\n",
      "\u001b[34m[2]#011train-logloss:0.58418#011validation-logloss:0.58487\u001b[0m\n",
      "\u001b[34m[3]#011train-logloss:0.56775#011validation-logloss:0.56864\u001b[0m\n",
      "\u001b[34m[4]#011train-logloss:0.55613#011validation-logloss:0.55762\u001b[0m\n",
      "\u001b[34m[5]#011train-logloss:0.54604#011validation-logloss:0.54773\u001b[0m\n",
      "\u001b[34m[6]#011train-logloss:0.53810#011validation-logloss:0.54012\u001b[0m\n",
      "\u001b[34m[7]#011train-logloss:0.53286#011validation-logloss:0.53565\u001b[0m\n",
      "\u001b[34m[8]#011train-logloss:0.52768#011validation-logloss:0.53143\u001b[0m\n",
      "\u001b[34m[9]#011train-logloss:0.52430#011validation-logloss:0.52817\u001b[0m\n",
      "\u001b[34m[10]#011train-logloss:0.52093#011validation-logloss:0.52520\u001b[0m\n",
      "\u001b[34m[11]#011train-logloss:0.51796#011validation-logloss:0.52320\u001b[0m\n",
      "\u001b[34m[12]#011train-logloss:0.51517#011validation-logloss:0.52142\u001b[0m\n",
      "\u001b[34m[13]#011train-logloss:0.51310#011validation-logloss:0.51977\u001b[0m\n",
      "\u001b[34m[14]#011train-logloss:0.51110#011validation-logloss:0.51830\u001b[0m\n",
      "\u001b[34m[15]#011train-logloss:0.50932#011validation-logloss:0.51756\u001b[0m\n",
      "\u001b[34m[16]#011train-logloss:0.50765#011validation-logloss:0.51683\u001b[0m\n",
      "\u001b[34m[17]#011train-logloss:0.50665#011validation-logloss:0.51661\u001b[0m\n",
      "\u001b[34m[18]#011train-logloss:0.50533#011validation-logloss:0.51623\u001b[0m\n",
      "\u001b[34m[19]#011train-logloss:0.50448#011validation-logloss:0.51587\u001b[0m\n",
      "\u001b[34m[20]#011train-logloss:0.50362#011validation-logloss:0.51578\u001b[0m\n",
      "\u001b[34m[21]#011train-logloss:0.50326#011validation-logloss:0.51570\u001b[0m\n",
      "\u001b[34m[22]#011train-logloss:0.50269#011validation-logloss:0.51582\u001b[0m\n",
      "\u001b[34m[23]#011train-logloss:0.50225#011validation-logloss:0.51595\u001b[0m\n",
      "\u001b[34m[24]#011train-logloss:0.50158#011validation-logloss:0.51587\u001b[0m\n",
      "\u001b[34m[25]#011train-logloss:0.50046#011validation-logloss:0.51551\u001b[0m\n",
      "\u001b[34m[26]#011train-logloss:0.49978#011validation-logloss:0.51562\u001b[0m\n",
      "\u001b[34m[27]#011train-logloss:0.49934#011validation-logloss:0.51565\u001b[0m\n",
      "\u001b[34m[28]#011train-logloss:0.49885#011validation-logloss:0.51574\u001b[0m\n",
      "\u001b[34m[29]#011train-logloss:0.49821#011validation-logloss:0.51577\u001b[0m\n",
      "\u001b[34m[30]#011train-logloss:0.49735#011validation-logloss:0.51609\u001b[0m\n",
      "\u001b[34m[31]#011train-logloss:0.49676#011validation-logloss:0.51626\u001b[0m\n",
      "\u001b[34m[32]#011train-logloss:0.49624#011validation-logloss:0.51587\u001b[0m\n",
      "\u001b[34m[33]#011train-logloss:0.49593#011validation-logloss:0.51603\u001b[0m\n",
      "\u001b[34m[34]#011train-logloss:0.49578#011validation-logloss:0.51601\u001b[0m\n",
      "\u001b[34m[35]#011train-logloss:0.49508#011validation-logloss:0.51592\u001b[0m\n",
      "\u001b[34m[36]#011train-logloss:0.49470#011validation-logloss:0.51588\u001b[0m\n",
      "\u001b[34m[37]#011train-logloss:0.49445#011validation-logloss:0.51604\u001b[0m\n",
      "\u001b[34m[38]#011train-logloss:0.49330#011validation-logloss:0.51548\u001b[0m\n",
      "\u001b[34m[39]#011train-logloss:0.49286#011validation-logloss:0.51554\u001b[0m\n",
      "\u001b[34m[40]#011train-logloss:0.49212#011validation-logloss:0.51568\u001b[0m\n",
      "\u001b[34m[41]#011train-logloss:0.49174#011validation-logloss:0.51609\u001b[0m\n",
      "\u001b[34m[42]#011train-logloss:0.49123#011validation-logloss:0.51626\u001b[0m\n",
      "\u001b[34m[43]#011train-logloss:0.49081#011validation-logloss:0.51614\u001b[0m\n",
      "\u001b[34m[44]#011train-logloss:0.49043#011validation-logloss:0.51628\u001b[0m\n",
      "\u001b[34m[45]#011train-logloss:0.49014#011validation-logloss:0.51629\u001b[0m\n",
      "\u001b[34m[46]#011train-logloss:0.48997#011validation-logloss:0.51637\u001b[0m\n",
      "\u001b[34m[47]#011train-logloss:0.48916#011validation-logloss:0.51643\u001b[0m\n",
      "\u001b[34m[48]#011train-logloss:0.48877#011validation-logloss:0.51659\u001b[0m\n",
      "\u001b[34m[49]#011train-logloss:0.48831#011validation-logloss:0.51632\u001b[0m\n",
      "\u001b[34m[50]#011train-logloss:0.48758#011validation-logloss:0.51622\u001b[0m\n",
      "\u001b[34m[51]#011train-logloss:0.48692#011validation-logloss:0.51669\u001b[0m\n",
      "\u001b[34m[52]#011train-logloss:0.48618#011validation-logloss:0.51678\u001b[0m\n",
      "\u001b[34m[53]#011train-logloss:0.48538#011validation-logloss:0.51643\u001b[0m\n",
      "\u001b[34m[54]#011train-logloss:0.48528#011validation-logloss:0.51651\u001b[0m\n",
      "\u001b[34m[55]#011train-logloss:0.48515#011validation-logloss:0.51634\u001b[0m\n",
      "\u001b[34m[56]#011train-logloss:0.48475#011validation-logloss:0.51631\u001b[0m\n",
      "\u001b[34m[57]#011train-logloss:0.48452#011validation-logloss:0.51632\u001b[0m\n",
      "\u001b[34m[58]#011train-logloss:0.48427#011validation-logloss:0.51628\u001b[0m\n",
      "\u001b[34m[59]#011train-logloss:0.48407#011validation-logloss:0.51624\u001b[0m\n",
      "\u001b[34m[60]#011train-logloss:0.48371#011validation-logloss:0.51637\u001b[0m\n",
      "\u001b[34m[61]#011train-logloss:0.48349#011validation-logloss:0.51631\u001b[0m\n",
      "\u001b[34m[62]#011train-logloss:0.48303#011validation-logloss:0.51631\u001b[0m\n",
      "\u001b[34m[63]#011train-logloss:0.48251#011validation-logloss:0.51646\u001b[0m\n",
      "\u001b[34m[64]#011train-logloss:0.48211#011validation-logloss:0.51655\u001b[0m\n",
      "\u001b[34m[65]#011train-logloss:0.48211#011validation-logloss:0.51656\u001b[0m\n",
      "\u001b[34m[66]#011train-logloss:0.48182#011validation-logloss:0.51666\u001b[0m\n",
      "\u001b[34m[67]#011train-logloss:0.48155#011validation-logloss:0.51654\u001b[0m\n",
      "\u001b[34m[68]#011train-logloss:0.48134#011validation-logloss:0.51659\u001b[0m\n",
      "\u001b[34m[69]#011train-logloss:0.48076#011validation-logloss:0.51631\u001b[0m\n",
      "\u001b[34m[70]#011train-logloss:0.48067#011validation-logloss:0.51633\u001b[0m\n",
      "\u001b[34m[71]#011train-logloss:0.48043#011validation-logloss:0.51636\u001b[0m\n",
      "\u001b[34m[72]#011train-logloss:0.48043#011validation-logloss:0.51638\u001b[0m\n",
      "\u001b[34m[73]#011train-logloss:0.48001#011validation-logloss:0.51668\u001b[0m\n",
      "\u001b[34m[74]#011train-logloss:0.47968#011validation-logloss:0.51677\u001b[0m\n",
      "\u001b[34m[75]#011train-logloss:0.47930#011validation-logloss:0.51669\u001b[0m\n",
      "\u001b[34m[76]#011train-logloss:0.47903#011validation-logloss:0.51684\u001b[0m\n",
      "\u001b[34m[77]#011train-logloss:0.47889#011validation-logloss:0.51695\u001b[0m\n",
      "\u001b[34m[78]#011train-logloss:0.47853#011validation-logloss:0.51703\u001b[0m\n",
      "\u001b[34m[79]#011train-logloss:0.47830#011validation-logloss:0.51698\u001b[0m\n",
      "\u001b[34m[80]#011train-logloss:0.47808#011validation-logloss:0.51725\u001b[0m\n",
      "\u001b[34m[81]#011train-logloss:0.47767#011validation-logloss:0.51725\u001b[0m\n",
      "\u001b[34m[82]#011train-logloss:0.47729#011validation-logloss:0.51710\u001b[0m\n",
      "\u001b[34m[83]#011train-logloss:0.47729#011validation-logloss:0.51712\u001b[0m\n",
      "\u001b[34m[84]#011train-logloss:0.47729#011validation-logloss:0.51711\u001b[0m\n",
      "\u001b[34m[85]#011train-logloss:0.47712#011validation-logloss:0.51722\u001b[0m\n",
      "\u001b[34m[86]#011train-logloss:0.47712#011validation-logloss:0.51721\u001b[0m\n",
      "\u001b[34m[87]#011train-logloss:0.47691#011validation-logloss:0.51738\u001b[0m\n",
      "\u001b[34m[88]#011train-logloss:0.47687#011validation-logloss:0.51741\u001b[0m\n",
      "\u001b[34m[89]#011train-logloss:0.47645#011validation-logloss:0.51761\u001b[0m\n",
      "\u001b[34m[90]#011train-logloss:0.47603#011validation-logloss:0.51791\u001b[0m\n",
      "\u001b[34m[91]#011train-logloss:0.47583#011validation-logloss:0.51811\u001b[0m\n",
      "\u001b[34m[92]#011train-logloss:0.47560#011validation-logloss:0.51821\u001b[0m\n",
      "\u001b[34m[93]#011train-logloss:0.47504#011validation-logloss:0.51850\u001b[0m\n",
      "\u001b[34m[94]#011train-logloss:0.47497#011validation-logloss:0.51851\u001b[0m\n",
      "\u001b[34m[95]#011train-logloss:0.47492#011validation-logloss:0.51860\u001b[0m\n",
      "\u001b[34m[96]#011train-logloss:0.47472#011validation-logloss:0.51861\u001b[0m\n",
      "\u001b[34m[97]#011train-logloss:0.47450#011validation-logloss:0.51864\u001b[0m\n",
      "\u001b[34m[98]#011train-logloss:0.47440#011validation-logloss:0.51861\u001b[0m\n",
      "\u001b[34m[99]#011train-logloss:0.47427#011validation-logloss:0.51865\u001b[0m\n",
      "\n",
      "2023-01-05 18:34:42 Uploading - Uploading generated training model\n",
      "2023-01-05 18:34:42 Completed - Training job completed\n",
      "Training seconds: 82\n",
      "Billable seconds: 82\n"
     ]
    }
   ],
   "source": [
    "#Fit the data to the model\n",
    "xgb.fit({\"train\": input_train, \"validation\": input_validation})"
   ]
  },
  {
   "cell_type": "markdown",
   "id": "6458cab9-3c0f-4766-a6f8-650b1561c73d",
   "metadata": {},
   "source": [
    "#### Deploy the model"
   ]
  },
  {
   "cell_type": "code",
   "execution_count": 30,
   "id": "7ba1b27e-c934-448e-94d3-843e1e73af7b",
   "metadata": {
    "tags": []
   },
   "outputs": [
    {
     "name": "stdout",
     "output_type": "stream",
     "text": [
      "--------!"
     ]
    }
   ],
   "source": [
    "xgb_predictor = xgb.deploy(\n",
    "    initial_instance_count=1, instance_type=\"ml.m4.xlarge\", serializer=CSVSerializer()\n",
    ")"
   ]
  },
  {
   "cell_type": "markdown",
   "id": "05237232-506a-48bd-a90d-9ca5a9488fdb",
   "metadata": {},
   "source": [
    "#### Save the predictions"
   ]
  },
  {
   "cell_type": "code",
   "execution_count": 34,
   "id": "c1c886ab-b14e-4b49-8ff7-c1f32a95cec3",
   "metadata": {
    "tags": []
   },
   "outputs": [],
   "source": [
    "def predict(en_data, rows=500):\n",
    "    split_array = np.array_split(en_data, int(en_data.shape[0] / float(rows) + 1))\n",
    "    predictions = \"\"\n",
    "    for array in split_array:\n",
    "        predictions = \"\".join([predictions, xgb_predictor.predict(array).decode(\"utf-8\")])\n",
    "\n",
    "    return predictions.split(\"\\n\")[:-1]\n",
    "\n",
    "\n",
    "predictions = predict(validation_data.drop(['case_status'],axis=1).to_numpy())"
   ]
  },
  {
   "cell_type": "code",
   "execution_count": 35,
   "id": "346b7e0c-d2ce-4550-88bb-88fadcd3064e",
   "metadata": {
    "tags": []
   },
   "outputs": [
    {
     "name": "stdout",
     "output_type": "stream",
     "text": [
      "[0.77296561 0.74351811 0.58985001 ... 0.95998597 0.71194988 0.39377275]\n"
     ]
    }
   ],
   "source": [
    "predictions = np.array([float(num) for num in predictions])\n",
    "print(predictions)"
   ]
  },
  {
   "cell_type": "code",
   "execution_count": 36,
   "id": "5292b0fa-8b06-454f-9c14-1617a77e0a28",
   "metadata": {
    "tags": []
   },
   "outputs": [
    {
     "data": {
      "text/html": [
       "<div>\n",
       "<style scoped>\n",
       "    .dataframe tbody tr th:only-of-type {\n",
       "        vertical-align: middle;\n",
       "    }\n",
       "\n",
       "    .dataframe tbody tr th {\n",
       "        vertical-align: top;\n",
       "    }\n",
       "\n",
       "    .dataframe thead th {\n",
       "        text-align: right;\n",
       "    }\n",
       "</style>\n",
       "<table border=\"1\" class=\"dataframe\">\n",
       "  <thead>\n",
       "    <tr style=\"text-align: right;\">\n",
       "      <th></th>\n",
       "      <th>continent</th>\n",
       "      <th>education_of_employee</th>\n",
       "      <th>has_job_experience</th>\n",
       "      <th>requires_job_training</th>\n",
       "      <th>no_of_employees</th>\n",
       "      <th>yr_of_estab</th>\n",
       "      <th>region_of_employment</th>\n",
       "      <th>prevailing_wage</th>\n",
       "      <th>unit_of_wage</th>\n",
       "      <th>full_time_position</th>\n",
       "      <th>case_status</th>\n",
       "      <th>case_pred</th>\n",
       "    </tr>\n",
       "  </thead>\n",
       "  <tbody>\n",
       "    <tr>\n",
       "      <th>0</th>\n",
       "      <td>1</td>\n",
       "      <td>0</td>\n",
       "      <td>1</td>\n",
       "      <td>0</td>\n",
       "      <td>556</td>\n",
       "      <td>174</td>\n",
       "      <td>1</td>\n",
       "      <td>5248</td>\n",
       "      <td>3</td>\n",
       "      <td>1</td>\n",
       "      <td>1</td>\n",
       "      <td>1</td>\n",
       "    </tr>\n",
       "    <tr>\n",
       "      <th>1</th>\n",
       "      <td>4</td>\n",
       "      <td>0</td>\n",
       "      <td>0</td>\n",
       "      <td>0</td>\n",
       "      <td>607</td>\n",
       "      <td>120</td>\n",
       "      <td>1</td>\n",
       "      <td>11997</td>\n",
       "      <td>3</td>\n",
       "      <td>1</td>\n",
       "      <td>1</td>\n",
       "      <td>1</td>\n",
       "    </tr>\n",
       "    <tr>\n",
       "      <th>2</th>\n",
       "      <td>1</td>\n",
       "      <td>3</td>\n",
       "      <td>0</td>\n",
       "      <td>0</td>\n",
       "      <td>2614</td>\n",
       "      <td>187</td>\n",
       "      <td>3</td>\n",
       "      <td>2107</td>\n",
       "      <td>0</td>\n",
       "      <td>1</td>\n",
       "      <td>1</td>\n",
       "      <td>1</td>\n",
       "    </tr>\n",
       "    <tr>\n",
       "      <th>3</th>\n",
       "      <td>1</td>\n",
       "      <td>0</td>\n",
       "      <td>1</td>\n",
       "      <td>1</td>\n",
       "      <td>3154</td>\n",
       "      <td>168</td>\n",
       "      <td>2</td>\n",
       "      <td>8975</td>\n",
       "      <td>3</td>\n",
       "      <td>1</td>\n",
       "      <td>1</td>\n",
       "      <td>1</td>\n",
       "    </tr>\n",
       "    <tr>\n",
       "      <th>4</th>\n",
       "      <td>2</td>\n",
       "      <td>0</td>\n",
       "      <td>1</td>\n",
       "      <td>0</td>\n",
       "      <td>4557</td>\n",
       "      <td>110</td>\n",
       "      <td>4</td>\n",
       "      <td>9052</td>\n",
       "      <td>3</td>\n",
       "      <td>1</td>\n",
       "      <td>0</td>\n",
       "      <td>1</td>\n",
       "    </tr>\n",
       "  </tbody>\n",
       "</table>\n",
       "</div>"
      ],
      "text/plain": [
       "   continent  education_of_employee  has_job_experience  \\\n",
       "0          1                      0                   1   \n",
       "1          4                      0                   0   \n",
       "2          1                      3                   0   \n",
       "3          1                      0                   1   \n",
       "4          2                      0                   1   \n",
       "\n",
       "   requires_job_training  no_of_employees  yr_of_estab  region_of_employment  \\\n",
       "0                      0              556          174                     1   \n",
       "1                      0              607          120                     1   \n",
       "2                      0             2614          187                     3   \n",
       "3                      1             3154          168                     2   \n",
       "4                      0             4557          110                     4   \n",
       "\n",
       "   prevailing_wage  unit_of_wage  full_time_position  case_status  case_pred  \n",
       "0             5248             3                   1            1          1  \n",
       "1            11997             3                   1            1          1  \n",
       "2             2107             0                   1            1          1  \n",
       "3             8975             3                   1            1          1  \n",
       "4             9052             3                   1            0          1  "
      ]
     },
     "execution_count": 36,
     "metadata": {},
     "output_type": "execute_result"
    }
   ],
   "source": [
    "columns=np.round(predictions,0)\n",
    "predictions = pd.DataFrame(columns)\n",
    "test_y = validation_data['case_status']\n",
    "actual = test_y\n",
    "test_x = validation_data.drop(columns=['case_status'],axis=1)\n",
    "#Prediction column called case_pred\n",
    "predictions.columns =['case_pred']\n",
    "# Concatenate them into a single dataframe\n",
    "output = pd.concat([test_x.reset_index(drop=True),actual.reset_index(drop=True),predictions.reset_index(drop=True)],axis=1)\n",
    "output['case_pred'] = output['case_pred'].astype(int)\n",
    "output.head()"
   ]
  },
  {
   "cell_type": "markdown",
   "id": "34b43acb-f598-4025-bd1b-3359f765194e",
   "metadata": {},
   "source": [
    "#### Evaluate the model using performance metrics"
   ]
  },
  {
   "cell_type": "markdown",
   "id": "0cbdc78b-95a7-43fd-83a1-f15e345311ee",
   "metadata": {},
   "source": [
    "Confusion Matrix"
   ]
  },
  {
   "cell_type": "code",
   "execution_count": 52,
   "id": "b7387cb3-c93e-4f8b-8712-6b305f3ad660",
   "metadata": {
    "tags": []
   },
   "outputs": [
    {
     "name": "stdout",
     "output_type": "stream",
     "text": [
      "[[1208 1254]\n",
      " [ 704 4478]]\n"
     ]
    }
   ],
   "source": [
    "# Evaluate the model using a confusion matrix\n",
    "from sklearn.metrics import confusion_matrix\n",
    "matrix = confusion_matrix(output['case_status'], output['case_pred'])\n",
    "# Display matrix\n",
    "print(matrix)"
   ]
  },
  {
   "cell_type": "code",
   "execution_count": 53,
   "id": "cf54b5dc-f9b0-49ed-9f45-4aa2dfbdb258",
   "metadata": {
    "tags": []
   },
   "outputs": [],
   "source": [
    "# Calculate TP, FP, FN, TN\n",
    "true_pos = matrix[0][0]\n",
    "fals_pos = matrix[0][1]\n",
    "fals_neg = matrix[1][0]\n",
    "true_neg = matrix[1][1]"
   ]
  },
  {
   "cell_type": "markdown",
   "id": "1b1c7cab-fea0-41c8-83b5-a855a8abe3df",
   "metadata": {},
   "source": [
    "**Accuracy**: \n"
   ]
  },
  {
   "cell_type": "code",
   "execution_count": 54,
   "id": "9c0bf428-bc00-4494-9345-97e0f943dfdd",
   "metadata": {
    "tags": []
   },
   "outputs": [
    {
     "name": "stdout",
     "output_type": "stream",
     "text": [
      "0.7438513867085296\n"
     ]
    }
   ],
   "source": [
    "# Calulate Accuracy Score\n",
    "accuracy = (true_pos + true_neg) / (true_pos + fals_pos + fals_neg + true_neg)\n",
    "# Display score\n",
    "print(accuracy)"
   ]
  },
  {
   "cell_type": "markdown",
   "id": "c254be93-caa9-41ad-9e08-06c3fc02d663",
   "metadata": {},
   "source": [
    "**Precision**: \n"
   ]
  },
  {
   "cell_type": "code",
   "execution_count": 55,
   "id": "2d626a8f-32c2-477d-9c45-2f3e76910144",
   "metadata": {
    "tags": []
   },
   "outputs": [
    {
     "name": "stdout",
     "output_type": "stream",
     "text": [
      "0.49065800162469536\n"
     ]
    }
   ],
   "source": [
    "# Calculate Precision Score\n",
    "precision = true_pos / (true_pos + fals_pos)\n",
    "# Display score\n",
    "print(precision)"
   ]
  },
  {
   "cell_type": "markdown",
   "id": "b712eaa7-74aa-4ae9-a658-d3766e707f29",
   "metadata": {},
   "source": [
    "**Recall**:\n"
   ]
  },
  {
   "cell_type": "code",
   "execution_count": 56,
   "id": "562cdfc7-371a-4d6a-bf6d-1b9bfdc8b8c7",
   "metadata": {
    "tags": []
   },
   "outputs": [
    {
     "name": "stdout",
     "output_type": "stream",
     "text": [
      "0.6317991631799164\n"
     ]
    }
   ],
   "source": [
    "# Calculate Recall Score\n",
    "recall = true_pos / (true_pos + fals_neg)\n",
    "# Display score\n",
    "print(recall)"
   ]
  },
  {
   "cell_type": "markdown",
   "id": "4e1625be-d6d6-44e6-a832-b9d9b0cc70be",
   "metadata": {},
   "source": [
    "**F1 score**:\n"
   ]
  },
  {
   "cell_type": "code",
   "execution_count": 57,
   "id": "ddc1df57-45f7-4fad-951b-3fe81660db5c",
   "metadata": {
    "tags": []
   },
   "outputs": [
    {
     "name": "stdout",
     "output_type": "stream",
     "text": [
      "0.5523548239597622\n"
     ]
    }
   ],
   "source": [
    "# Calculate F1-score\n",
    "f1 = (2*precision*recall) / (precision + recall)\n",
    "# Display score\n",
    "print(f1)"
   ]
  },
  {
   "cell_type": "markdown",
   "id": "b33d29cb-acb5-4284-ab67-b6a72fd5f164",
   "metadata": {},
   "source": [
    "### Observation\n"
   ]
  },
  {
   "cell_type": "markdown",
   "id": "8782040f-d50d-4c1b-9cd3-e69c84658f94",
   "metadata": {},
   "source": [
    "1. From the confusion matrix, we get 1254 false positive (FP) of visa status, which means the model predict 1254 visas are certified while they are are actually denied. For the false negative, the model predict 704 visas are denied while they are actually certified. Both error need to be decreased becasue if the company hire those 1254 people that they think will have higher chance of getting visa approved, but their visa actually get denied, so the company will likely lose their time and money getting every candidates on the process and might lose time to actually hire other people who can actually work for the company. For the false negative, company might not hiher 704 people because they have possibility of getting visa denied, but their visa actually get approved, the company will likely lose highly skill people to work for them.  \n",
    "  \n",
    "2. The model accuracy is at 74%, model precision is at 49%, model recall is at 63% and f1 score which is a balance of precision and recall is at 55%. We can see here that the model need to be improve to actually increase all these values. \n",
    "\n",
    "Next, the model tuning will be studied to find the best hyperparameters to find the new model to train data.\n",
    " "
   ]
  },
  {
   "cell_type": "markdown",
   "id": "0e2a9bc2-5f8a-437d-a004-ced398f53d78",
   "metadata": {
    "tags": []
   },
   "source": [
    "### Model Tuning\n",
    "\n",
    "**Hyper-parameter Tuning** is the art of figuring out what works best for your model - performing well statistically and aligning with your business context & needs"
   ]
  },
  {
   "cell_type": "code",
   "execution_count": 63,
   "id": "2be367e9-e7ce-4886-ad35-bdf60f469c08",
   "metadata": {
    "tags": []
   },
   "outputs": [],
   "source": [
    "# import the Hyperparameter Tuner\n",
    "from sagemaker.tuner import IntegerParameter\n",
    "from sagemaker.tuner import ContinuousParameter\n",
    "from sagemaker.tuner import HyperparameterTuner"
   ]
  },
  {
   "cell_type": "markdown",
   "id": "919cf6ba-5132-4564-81d1-7289ffce2ea3",
   "metadata": {
    "tags": []
   },
   "source": [
    "#### Define the parameter space & train the model\n",
    "\n",
    "Each model is build on a different algorithm, and hence the hyper-parameters may vary. So before you tune these models."
   ]
  },
  {
   "cell_type": "code",
   "execution_count": 64,
   "id": "2452fb79-25a6-4eb9-bec6-aa73b79770c1",
   "metadata": {
    "tags": []
   },
   "outputs": [],
   "source": [
    "hyperparameter_ranges = {\n",
    "    'alpha' : ContinuousParameter(0, 1000, scaling_type = 'Auto'),\n",
    "    'eta' : ContinuousParameter(0.1, 0.5, scaling_type = 'Logarithmic'),\n",
    "    'max_depth' : IntegerParameter(0, 10, scaling_type = 'Auto'),\n",
    "    'min_child_weight' : ContinuousParameter(0, 10, scaling_type = 'Auto')}\n",
    "\n",
    "objective_metric_name = 'validation:auc'"
   ]
  },
  {
   "cell_type": "code",
   "execution_count": 65,
   "id": "4f724fcd-f24a-4c2f-a1b5-3e11fa0576aa",
   "metadata": {
    "tags": []
   },
   "outputs": [],
   "source": [
    "tuner = HyperparameterTuner(\n",
    "    xgb,\n",
    "    objective_metric_name,\n",
    "    hyperparameter_ranges,\n",
    "    max_jobs = 20,\n",
    "    max_parallel_jobs = 3\n",
    ")"
   ]
  },
  {
   "cell_type": "code",
   "execution_count": 66,
   "id": "3900a970-7911-4cff-b518-d32fd635932a",
   "metadata": {
    "tags": []
   },
   "outputs": [
    {
     "name": "stdout",
     "output_type": "stream",
     "text": [
      ".................................................................................................................!\n"
     ]
    }
   ],
   "source": [
    "#Start Hyperparameter tuning job\n",
    "tuner.fit({'train': input_train, 'validation': input_validation}, include_cls_metadata=False)"
   ]
  },
  {
   "cell_type": "code",
   "execution_count": 68,
   "id": "25984c34-af97-47ac-be03-ebb09080becc",
   "metadata": {
    "tags": []
   },
   "outputs": [
    {
     "name": "stdout",
     "output_type": "stream",
     "text": [
      "20 training jobs have completed\n"
     ]
    }
   ],
   "source": [
    "#Check status of hyperparameter tunning job\n",
    "region = boto3.Session().region_name\n",
    "sage_client = boto3.Session().client(\"sagemaker\")\n",
    "\n",
    "tuning_job_name = \"sagemaker-xgboost-230105-1915\"\n",
    "\n",
    "tuning_job_result = sage_client.describe_hyper_parameter_tuning_job(\n",
    "    HyperParameterTuningJobName=tuning_job_name\n",
    ")\n",
    "\n",
    "status = tuning_job_result[\"HyperParameterTuningJobStatus\"]\n",
    "if status != \"Completed\":\n",
    "    print(\"Reminder: the tuning job has not been completed.\")\n",
    "\n",
    "job_count = tuning_job_result[\"TrainingJobStatusCounters\"][\"Completed\"]\n",
    "print(\"%d training jobs have completed\" % job_count)\n",
    "\n",
    "objective = tuning_job_result[\"HyperParameterTuningJobConfig\"][\"HyperParameterTuningJobObjective\"]\n",
    "is_minimize = objective[\"Type\"] != \"Maximize\"\n",
    "objective_name = objective[\"MetricName\"]"
   ]
  },
  {
   "cell_type": "code",
   "execution_count": 69,
   "id": "a6fc550e-e358-434d-aec2-1cfb5b018640",
   "metadata": {
    "tags": []
   },
   "outputs": [
    {
     "name": "stdout",
     "output_type": "stream",
     "text": [
      "Best model found so far:\n",
      "{'CreationTime': datetime.datetime(2023, 1, 5, 19, 20, 59, tzinfo=tzlocal()),\n",
      " 'FinalHyperParameterTuningJobObjectiveMetric': {'MetricName': 'validation:auc',\n",
      "                                                 'Value': 0.7786700129508972},\n",
      " 'ObjectiveStatus': 'Succeeded',\n",
      " 'TrainingEndTime': datetime.datetime(2023, 1, 5, 19, 21, 41, tzinfo=tzlocal()),\n",
      " 'TrainingJobArn': 'arn:aws:sagemaker:us-east-1:160277102220:training-job/sagemaker-xgboost-230105-1915-011-25c0d605',\n",
      " 'TrainingJobName': 'sagemaker-xgboost-230105-1915-011-25c0d605',\n",
      " 'TrainingJobStatus': 'Completed',\n",
      " 'TrainingStartTime': datetime.datetime(2023, 1, 5, 19, 21, 4, tzinfo=tzlocal()),\n",
      " 'TunedHyperParameters': {'alpha': '0.0',\n",
      "                          'eta': '0.10000000000000002',\n",
      "                          'max_depth': '5',\n",
      "                          'min_child_weight': '9.670827651909446'}}\n"
     ]
    }
   ],
   "source": [
    "#Finding best model from parameter tunning\n",
    "from pprint import pprint\n",
    "\n",
    "if tuning_job_result.get(\"BestTrainingJob\", None):\n",
    "    print(\"Best model found so far:\")\n",
    "    pprint(tuning_job_result[\"BestTrainingJob\"])\n",
    "else:\n",
    "    print(\"No training jobs have reported results yet.\")"
   ]
  },
  {
   "cell_type": "code",
   "execution_count": 70,
   "id": "2ce34583-a8cc-4412-9e46-1235e22ed5fe",
   "metadata": {
    "tags": []
   },
   "outputs": [
    {
     "name": "stdout",
     "output_type": "stream",
     "text": [
      "Number of training jobs with valid objective: 20\n",
      "{'lowest': 0.5, 'highest': 0.7786700129508972}\n"
     ]
    },
    {
     "data": {
      "text/html": [
       "<div>\n",
       "<style scoped>\n",
       "    .dataframe tbody tr th:only-of-type {\n",
       "        vertical-align: middle;\n",
       "    }\n",
       "\n",
       "    .dataframe tbody tr th {\n",
       "        vertical-align: top;\n",
       "    }\n",
       "\n",
       "    .dataframe thead th {\n",
       "        text-align: right;\n",
       "    }\n",
       "</style>\n",
       "<table border=\"1\" class=\"dataframe\">\n",
       "  <thead>\n",
       "    <tr style=\"text-align: right;\">\n",
       "      <th></th>\n",
       "      <th>alpha</th>\n",
       "      <th>eta</th>\n",
       "      <th>max_depth</th>\n",
       "      <th>min_child_weight</th>\n",
       "      <th>TrainingJobName</th>\n",
       "      <th>TrainingJobStatus</th>\n",
       "      <th>FinalObjectiveValue</th>\n",
       "      <th>TrainingStartTime</th>\n",
       "      <th>TrainingEndTime</th>\n",
       "      <th>TrainingElapsedTimeSeconds</th>\n",
       "    </tr>\n",
       "  </thead>\n",
       "  <tbody>\n",
       "    <tr>\n",
       "      <th>9</th>\n",
       "      <td>0.000000</td>\n",
       "      <td>0.100000</td>\n",
       "      <td>5.0</td>\n",
       "      <td>9.670828</td>\n",
       "      <td>sagemaker-xgboost-230105-1915-011-25c0d605</td>\n",
       "      <td>Completed</td>\n",
       "      <td>0.77867</td>\n",
       "      <td>2023-01-05 19:21:04+00:00</td>\n",
       "      <td>2023-01-05 19:21:41+00:00</td>\n",
       "      <td>37.0</td>\n",
       "    </tr>\n",
       "    <tr>\n",
       "      <th>7</th>\n",
       "      <td>7.976895</td>\n",
       "      <td>0.138115</td>\n",
       "      <td>5.0</td>\n",
       "      <td>3.800037</td>\n",
       "      <td>sagemaker-xgboost-230105-1915-013-26b35e21</td>\n",
       "      <td>Completed</td>\n",
       "      <td>0.77842</td>\n",
       "      <td>2023-01-05 19:21:49+00:00</td>\n",
       "      <td>2023-01-05 19:22:27+00:00</td>\n",
       "      <td>38.0</td>\n",
       "    </tr>\n",
       "    <tr>\n",
       "      <th>4</th>\n",
       "      <td>0.853459</td>\n",
       "      <td>0.117405</td>\n",
       "      <td>5.0</td>\n",
       "      <td>0.180162</td>\n",
       "      <td>sagemaker-xgboost-230105-1915-016-b6dd06b8</td>\n",
       "      <td>Completed</td>\n",
       "      <td>0.77834</td>\n",
       "      <td>2023-01-05 19:22:47+00:00</td>\n",
       "      <td>2023-01-05 19:23:25+00:00</td>\n",
       "      <td>38.0</td>\n",
       "    </tr>\n",
       "    <tr>\n",
       "      <th>1</th>\n",
       "      <td>0.000000</td>\n",
       "      <td>0.126534</td>\n",
       "      <td>4.0</td>\n",
       "      <td>10.000000</td>\n",
       "      <td>sagemaker-xgboost-230105-1915-019-48d68c2e</td>\n",
       "      <td>Completed</td>\n",
       "      <td>0.77685</td>\n",
       "      <td>2023-01-05 19:23:51+00:00</td>\n",
       "      <td>2023-01-05 19:24:23+00:00</td>\n",
       "      <td>32.0</td>\n",
       "    </tr>\n",
       "    <tr>\n",
       "      <th>5</th>\n",
       "      <td>20.020887</td>\n",
       "      <td>0.129631</td>\n",
       "      <td>6.0</td>\n",
       "      <td>6.020987</td>\n",
       "      <td>sagemaker-xgboost-230105-1915-015-301c248d</td>\n",
       "      <td>Completed</td>\n",
       "      <td>0.77661</td>\n",
       "      <td>2023-01-05 19:22:54+00:00</td>\n",
       "      <td>2023-01-05 19:23:31+00:00</td>\n",
       "      <td>37.0</td>\n",
       "    </tr>\n",
       "    <tr>\n",
       "      <th>10</th>\n",
       "      <td>0.000000</td>\n",
       "      <td>0.158999</td>\n",
       "      <td>6.0</td>\n",
       "      <td>6.197071</td>\n",
       "      <td>sagemaker-xgboost-230105-1915-010-e31e7fd0</td>\n",
       "      <td>Completed</td>\n",
       "      <td>0.77517</td>\n",
       "      <td>2023-01-05 19:20:55+00:00</td>\n",
       "      <td>2023-01-05 19:21:32+00:00</td>\n",
       "      <td>37.0</td>\n",
       "    </tr>\n",
       "    <tr>\n",
       "      <th>3</th>\n",
       "      <td>0.000000</td>\n",
       "      <td>0.100000</td>\n",
       "      <td>3.0</td>\n",
       "      <td>7.482663</td>\n",
       "      <td>sagemaker-xgboost-230105-1915-017-a57fc57a</td>\n",
       "      <td>Completed</td>\n",
       "      <td>0.77479</td>\n",
       "      <td>2023-01-05 19:22:57+00:00</td>\n",
       "      <td>2023-01-05 19:23:35+00:00</td>\n",
       "      <td>38.0</td>\n",
       "    </tr>\n",
       "    <tr>\n",
       "      <th>0</th>\n",
       "      <td>25.317331</td>\n",
       "      <td>0.115423</td>\n",
       "      <td>5.0</td>\n",
       "      <td>8.094955</td>\n",
       "      <td>sagemaker-xgboost-230105-1915-020-8a5f5a30</td>\n",
       "      <td>Completed</td>\n",
       "      <td>0.77458</td>\n",
       "      <td>2023-01-05 19:23:53+00:00</td>\n",
       "      <td>2023-01-05 19:24:30+00:00</td>\n",
       "      <td>37.0</td>\n",
       "    </tr>\n",
       "    <tr>\n",
       "      <th>6</th>\n",
       "      <td>0.000000</td>\n",
       "      <td>0.224293</td>\n",
       "      <td>3.0</td>\n",
       "      <td>0.000000</td>\n",
       "      <td>sagemaker-xgboost-230105-1915-014-d0f9556e</td>\n",
       "      <td>Completed</td>\n",
       "      <td>0.77401</td>\n",
       "      <td>2023-01-05 19:21:57+00:00</td>\n",
       "      <td>2023-01-05 19:22:34+00:00</td>\n",
       "      <td>37.0</td>\n",
       "    </tr>\n",
       "    <tr>\n",
       "      <th>2</th>\n",
       "      <td>0.000000</td>\n",
       "      <td>0.500000</td>\n",
       "      <td>4.0</td>\n",
       "      <td>10.000000</td>\n",
       "      <td>sagemaker-xgboost-230105-1915-018-133affe7</td>\n",
       "      <td>Completed</td>\n",
       "      <td>0.76763</td>\n",
       "      <td>2023-01-05 19:23:43+00:00</td>\n",
       "      <td>2023-01-05 19:24:20+00:00</td>\n",
       "      <td>37.0</td>\n",
       "    </tr>\n",
       "    <tr>\n",
       "      <th>19</th>\n",
       "      <td>133.916121</td>\n",
       "      <td>0.179124</td>\n",
       "      <td>5.0</td>\n",
       "      <td>5.825121</td>\n",
       "      <td>sagemaker-xgboost-230105-1915-001-aa8afd0d</td>\n",
       "      <td>Completed</td>\n",
       "      <td>0.75969</td>\n",
       "      <td>2023-01-05 19:18:19+00:00</td>\n",
       "      <td>2023-01-05 19:19:52+00:00</td>\n",
       "      <td>93.0</td>\n",
       "    </tr>\n",
       "    <tr>\n",
       "      <th>8</th>\n",
       "      <td>0.000000</td>\n",
       "      <td>0.500000</td>\n",
       "      <td>6.0</td>\n",
       "      <td>2.241612</td>\n",
       "      <td>sagemaker-xgboost-230105-1915-012-8e04d903</td>\n",
       "      <td>Completed</td>\n",
       "      <td>0.75515</td>\n",
       "      <td>2023-01-05 19:21:48+00:00</td>\n",
       "      <td>2023-01-05 19:22:25+00:00</td>\n",
       "      <td>37.0</td>\n",
       "    </tr>\n",
       "    <tr>\n",
       "      <th>11</th>\n",
       "      <td>185.380947</td>\n",
       "      <td>0.100000</td>\n",
       "      <td>6.0</td>\n",
       "      <td>2.546656</td>\n",
       "      <td>sagemaker-xgboost-230105-1915-009-eabbd382</td>\n",
       "      <td>Completed</td>\n",
       "      <td>0.75023</td>\n",
       "      <td>2023-01-05 19:20:46+00:00</td>\n",
       "      <td>2023-01-05 19:21:28+00:00</td>\n",
       "      <td>42.0</td>\n",
       "    </tr>\n",
       "    <tr>\n",
       "      <th>13</th>\n",
       "      <td>400.740522</td>\n",
       "      <td>0.123174</td>\n",
       "      <td>4.0</td>\n",
       "      <td>9.529390</td>\n",
       "      <td>sagemaker-xgboost-230105-1915-007-cbdea7c4</td>\n",
       "      <td>Completed</td>\n",
       "      <td>0.71488</td>\n",
       "      <td>2023-01-05 19:20:02+00:00</td>\n",
       "      <td>2023-01-05 19:20:40+00:00</td>\n",
       "      <td>38.0</td>\n",
       "    </tr>\n",
       "    <tr>\n",
       "      <th>14</th>\n",
       "      <td>453.506499</td>\n",
       "      <td>0.286069</td>\n",
       "      <td>10.0</td>\n",
       "      <td>2.514446</td>\n",
       "      <td>sagemaker-xgboost-230105-1915-006-eb87aadc</td>\n",
       "      <td>Completed</td>\n",
       "      <td>0.71284</td>\n",
       "      <td>2023-01-05 19:19:53+00:00</td>\n",
       "      <td>2023-01-05 19:20:31+00:00</td>\n",
       "      <td>38.0</td>\n",
       "    </tr>\n",
       "    <tr>\n",
       "      <th>18</th>\n",
       "      <td>501.570328</td>\n",
       "      <td>0.284471</td>\n",
       "      <td>9.0</td>\n",
       "      <td>2.471049</td>\n",
       "      <td>sagemaker-xgboost-230105-1915-002-a25befb0</td>\n",
       "      <td>Completed</td>\n",
       "      <td>0.69670</td>\n",
       "      <td>2023-01-05 19:17:39+00:00</td>\n",
       "      <td>2023-01-05 19:19:02+00:00</td>\n",
       "      <td>83.0</td>\n",
       "    </tr>\n",
       "    <tr>\n",
       "      <th>15</th>\n",
       "      <td>614.280385</td>\n",
       "      <td>0.121113</td>\n",
       "      <td>4.0</td>\n",
       "      <td>1.336253</td>\n",
       "      <td>sagemaker-xgboost-230105-1915-005-a7847886</td>\n",
       "      <td>Completed</td>\n",
       "      <td>0.69172</td>\n",
       "      <td>2023-01-05 19:19:10+00:00</td>\n",
       "      <td>2023-01-05 19:19:43+00:00</td>\n",
       "      <td>33.0</td>\n",
       "    </tr>\n",
       "    <tr>\n",
       "      <th>12</th>\n",
       "      <td>570.178205</td>\n",
       "      <td>0.144532</td>\n",
       "      <td>4.0</td>\n",
       "      <td>8.340781</td>\n",
       "      <td>sagemaker-xgboost-230105-1915-008-165c1caa</td>\n",
       "      <td>Completed</td>\n",
       "      <td>0.69122</td>\n",
       "      <td>2023-01-05 19:20:11+00:00</td>\n",
       "      <td>2023-01-05 19:20:43+00:00</td>\n",
       "      <td>32.0</td>\n",
       "    </tr>\n",
       "    <tr>\n",
       "      <th>17</th>\n",
       "      <td>512.591323</td>\n",
       "      <td>0.105349</td>\n",
       "      <td>2.0</td>\n",
       "      <td>6.463541</td>\n",
       "      <td>sagemaker-xgboost-230105-1915-003-af9b0b13</td>\n",
       "      <td>Completed</td>\n",
       "      <td>0.67354</td>\n",
       "      <td>2023-01-05 19:17:50+00:00</td>\n",
       "      <td>2023-01-05 19:18:53+00:00</td>\n",
       "      <td>63.0</td>\n",
       "    </tr>\n",
       "    <tr>\n",
       "      <th>16</th>\n",
       "      <td>710.813250</td>\n",
       "      <td>0.182275</td>\n",
       "      <td>0.0</td>\n",
       "      <td>8.580603</td>\n",
       "      <td>sagemaker-xgboost-230105-1915-004-b65c654d</td>\n",
       "      <td>Completed</td>\n",
       "      <td>0.50000</td>\n",
       "      <td>2023-01-05 19:19:07+00:00</td>\n",
       "      <td>2023-01-05 19:19:34+00:00</td>\n",
       "      <td>27.0</td>\n",
       "    </tr>\n",
       "  </tbody>\n",
       "</table>\n",
       "</div>"
      ],
      "text/plain": [
       "         alpha       eta  max_depth  min_child_weight  \\\n",
       "9     0.000000  0.100000        5.0          9.670828   \n",
       "7     7.976895  0.138115        5.0          3.800037   \n",
       "4     0.853459  0.117405        5.0          0.180162   \n",
       "1     0.000000  0.126534        4.0         10.000000   \n",
       "5    20.020887  0.129631        6.0          6.020987   \n",
       "10    0.000000  0.158999        6.0          6.197071   \n",
       "3     0.000000  0.100000        3.0          7.482663   \n",
       "0    25.317331  0.115423        5.0          8.094955   \n",
       "6     0.000000  0.224293        3.0          0.000000   \n",
       "2     0.000000  0.500000        4.0         10.000000   \n",
       "19  133.916121  0.179124        5.0          5.825121   \n",
       "8     0.000000  0.500000        6.0          2.241612   \n",
       "11  185.380947  0.100000        6.0          2.546656   \n",
       "13  400.740522  0.123174        4.0          9.529390   \n",
       "14  453.506499  0.286069       10.0          2.514446   \n",
       "18  501.570328  0.284471        9.0          2.471049   \n",
       "15  614.280385  0.121113        4.0          1.336253   \n",
       "12  570.178205  0.144532        4.0          8.340781   \n",
       "17  512.591323  0.105349        2.0          6.463541   \n",
       "16  710.813250  0.182275        0.0          8.580603   \n",
       "\n",
       "                               TrainingJobName TrainingJobStatus  \\\n",
       "9   sagemaker-xgboost-230105-1915-011-25c0d605         Completed   \n",
       "7   sagemaker-xgboost-230105-1915-013-26b35e21         Completed   \n",
       "4   sagemaker-xgboost-230105-1915-016-b6dd06b8         Completed   \n",
       "1   sagemaker-xgboost-230105-1915-019-48d68c2e         Completed   \n",
       "5   sagemaker-xgboost-230105-1915-015-301c248d         Completed   \n",
       "10  sagemaker-xgboost-230105-1915-010-e31e7fd0         Completed   \n",
       "3   sagemaker-xgboost-230105-1915-017-a57fc57a         Completed   \n",
       "0   sagemaker-xgboost-230105-1915-020-8a5f5a30         Completed   \n",
       "6   sagemaker-xgboost-230105-1915-014-d0f9556e         Completed   \n",
       "2   sagemaker-xgboost-230105-1915-018-133affe7         Completed   \n",
       "19  sagemaker-xgboost-230105-1915-001-aa8afd0d         Completed   \n",
       "8   sagemaker-xgboost-230105-1915-012-8e04d903         Completed   \n",
       "11  sagemaker-xgboost-230105-1915-009-eabbd382         Completed   \n",
       "13  sagemaker-xgboost-230105-1915-007-cbdea7c4         Completed   \n",
       "14  sagemaker-xgboost-230105-1915-006-eb87aadc         Completed   \n",
       "18  sagemaker-xgboost-230105-1915-002-a25befb0         Completed   \n",
       "15  sagemaker-xgboost-230105-1915-005-a7847886         Completed   \n",
       "12  sagemaker-xgboost-230105-1915-008-165c1caa         Completed   \n",
       "17  sagemaker-xgboost-230105-1915-003-af9b0b13         Completed   \n",
       "16  sagemaker-xgboost-230105-1915-004-b65c654d         Completed   \n",
       "\n",
       "    FinalObjectiveValue         TrainingStartTime           TrainingEndTime  \\\n",
       "9               0.77867 2023-01-05 19:21:04+00:00 2023-01-05 19:21:41+00:00   \n",
       "7               0.77842 2023-01-05 19:21:49+00:00 2023-01-05 19:22:27+00:00   \n",
       "4               0.77834 2023-01-05 19:22:47+00:00 2023-01-05 19:23:25+00:00   \n",
       "1               0.77685 2023-01-05 19:23:51+00:00 2023-01-05 19:24:23+00:00   \n",
       "5               0.77661 2023-01-05 19:22:54+00:00 2023-01-05 19:23:31+00:00   \n",
       "10              0.77517 2023-01-05 19:20:55+00:00 2023-01-05 19:21:32+00:00   \n",
       "3               0.77479 2023-01-05 19:22:57+00:00 2023-01-05 19:23:35+00:00   \n",
       "0               0.77458 2023-01-05 19:23:53+00:00 2023-01-05 19:24:30+00:00   \n",
       "6               0.77401 2023-01-05 19:21:57+00:00 2023-01-05 19:22:34+00:00   \n",
       "2               0.76763 2023-01-05 19:23:43+00:00 2023-01-05 19:24:20+00:00   \n",
       "19              0.75969 2023-01-05 19:18:19+00:00 2023-01-05 19:19:52+00:00   \n",
       "8               0.75515 2023-01-05 19:21:48+00:00 2023-01-05 19:22:25+00:00   \n",
       "11              0.75023 2023-01-05 19:20:46+00:00 2023-01-05 19:21:28+00:00   \n",
       "13              0.71488 2023-01-05 19:20:02+00:00 2023-01-05 19:20:40+00:00   \n",
       "14              0.71284 2023-01-05 19:19:53+00:00 2023-01-05 19:20:31+00:00   \n",
       "18              0.69670 2023-01-05 19:17:39+00:00 2023-01-05 19:19:02+00:00   \n",
       "15              0.69172 2023-01-05 19:19:10+00:00 2023-01-05 19:19:43+00:00   \n",
       "12              0.69122 2023-01-05 19:20:11+00:00 2023-01-05 19:20:43+00:00   \n",
       "17              0.67354 2023-01-05 19:17:50+00:00 2023-01-05 19:18:53+00:00   \n",
       "16              0.50000 2023-01-05 19:19:07+00:00 2023-01-05 19:19:34+00:00   \n",
       "\n",
       "    TrainingElapsedTimeSeconds  \n",
       "9                         37.0  \n",
       "7                         38.0  \n",
       "4                         38.0  \n",
       "1                         32.0  \n",
       "5                         37.0  \n",
       "10                        37.0  \n",
       "3                         38.0  \n",
       "0                         37.0  \n",
       "6                         37.0  \n",
       "2                         37.0  \n",
       "19                        93.0  \n",
       "8                         37.0  \n",
       "11                        42.0  \n",
       "13                        38.0  \n",
       "14                        38.0  \n",
       "18                        83.0  \n",
       "15                        33.0  \n",
       "12                        32.0  \n",
       "17                        63.0  \n",
       "16                        27.0  "
      ]
     },
     "execution_count": 70,
     "metadata": {},
     "output_type": "execute_result"
    }
   ],
   "source": [
    "#Showing results of hyperparameter in dataframe\n",
    "tuner = sagemaker.HyperparameterTuningJobAnalytics(tuning_job_name)\n",
    "\n",
    "full_df = tuner.dataframe()\n",
    "\n",
    "if len(full_df) > 0:\n",
    "    df = full_df[full_df[\"FinalObjectiveValue\"] > -float(\"inf\")]\n",
    "    if len(df) > 0:\n",
    "        df = df.sort_values(\"FinalObjectiveValue\", ascending=is_minimize)\n",
    "        print(\"Number of training jobs with valid objective: %d\" % len(df))\n",
    "        print({\"lowest\": min(df[\"FinalObjectiveValue\"]), \"highest\": max(df[\"FinalObjectiveValue\"])})\n",
    "        pd.set_option(\"display.max_colwidth\", None)  # Don't truncate TrainingJobName\n",
    "    else:\n",
    "        print(\"No training jobs have reported valid results yet.\")\n",
    "\n",
    "df\n"
   ]
  },
  {
   "cell_type": "markdown",
   "id": "babf3931-4422-4934-91d3-23f501342670",
   "metadata": {
    "tags": []
   },
   "source": [
    "#### Re-build the model & predict with the best parameters"
   ]
  },
  {
   "cell_type": "code",
   "execution_count": 71,
   "id": "9cfa72d7-3241-426e-86c3-572a66e85103",
   "metadata": {
    "tags": []
   },
   "outputs": [],
   "source": [
    "#Set the estimater configuration\n",
    "tune_model = sagemaker.estimator.Estimator(\n",
    "    container,\n",
    "    role,\n",
    "    instance_count=1,\n",
    "    instance_type=\"ml.m4.xlarge\",\n",
    "    output_path=\"s3://{}/{}/output\".format(bucket, prefix),\n",
    "    sagemaker_session=sess,\n",
    ")"
   ]
  },
  {
   "cell_type": "markdown",
   "id": "38dc6e2e-5471-49ec-9729-df999763cd34",
   "metadata": {},
   "source": [
    "We are tuning the model with the best parameters we found in the previous step"
   ]
  },
  {
   "cell_type": "code",
   "execution_count": 72,
   "id": "27969845-357c-42ad-8eac-774cfa85ddb0",
   "metadata": {
    "tags": []
   },
   "outputs": [],
   "source": [
    "#Tune model \n",
    "tune_model.set_hyperparameters(\n",
    "    max_depth=5,\n",
    "    eta=0.1,\n",
    "    min_child_weight=9.7,\n",
    "    objective = \"binary:logistic\",\n",
    "    num_round=100\n",
    ")"
   ]
  },
  {
   "cell_type": "code",
   "execution_count": 73,
   "id": "f8c8e595-6d2c-4422-8812-8de713987807",
   "metadata": {
    "tags": []
   },
   "outputs": [
    {
     "name": "stdout",
     "output_type": "stream",
     "text": [
      "2023-01-05 19:30:37 Starting - Starting the training job...\n",
      "2023-01-05 19:31:02 Starting - Preparing the instances for trainingProfilerReport-1672947036: InProgress\n",
      "...............\n",
      "2023-01-05 19:33:25 Downloading - Downloading input data...\n",
      "2023-01-05 19:34:01 Training - Training image download completed. Training in progress..\u001b[34m[2023-01-05 19:34:02.769 ip-10-2-171-39.ec2.internal:7 INFO utils.py:27] RULE_JOB_STOP_SIGNAL_FILENAME: None\u001b[0m\n",
      "\u001b[34m[2023-01-05:19:34:02:INFO] Imported framework sagemaker_xgboost_container.training\u001b[0m\n",
      "\u001b[34m[2023-01-05:19:34:02:INFO] Failed to parse hyperparameter objective value binary:logistic to Json.\u001b[0m\n",
      "\u001b[34mReturning the value itself\u001b[0m\n",
      "\u001b[34m[2023-01-05:19:34:02:INFO] No GPUs detected (normal if no gpus installed)\u001b[0m\n",
      "\u001b[34m[2023-01-05:19:34:02:INFO] Running XGBoost Sagemaker in algorithm mode\u001b[0m\n",
      "\u001b[34m[2023-01-05:19:34:02:INFO] Determined delimiter of CSV input is ','\u001b[0m\n",
      "\u001b[34m[2023-01-05:19:34:02:INFO] Determined delimiter of CSV input is ','\u001b[0m\n",
      "\u001b[34m[2023-01-05:19:34:02:INFO] files path: /opt/ml/input/data/train\u001b[0m\n",
      "\u001b[34m[2023-01-05:19:34:02:INFO] Determined delimiter of CSV input is ','\u001b[0m\n",
      "\u001b[34m[2023-01-05:19:34:02:INFO] files path: /opt/ml/input/data/validation\u001b[0m\n",
      "\u001b[34m[2023-01-05:19:34:02:INFO] Determined delimiter of CSV input is ','\u001b[0m\n",
      "\u001b[34m[2023-01-05:19:34:02:INFO] Single node training.\u001b[0m\n",
      "\u001b[34m[2023-01-05:19:34:02:INFO] Train matrix has 17836 rows and 10 columns\u001b[0m\n",
      "\u001b[34m[2023-01-05:19:34:02:INFO] Validation matrix has 7644 rows\u001b[0m\n",
      "\u001b[34m[2023-01-05 19:34:02.898 ip-10-2-171-39.ec2.internal:7 INFO json_config.py:91] Creating hook from json_config at /opt/ml/input/config/debughookconfig.json.\u001b[0m\n",
      "\u001b[34m[19:34:03] WARNING: ../src/learner.cc:1115: Starting in XGBoost 1.3.0, the default evaluation metric used with the objective 'binary:logistic' was changed from 'error' to 'logloss'. Explicitly set eval_metric if you'd like to restore the old behavior.\u001b[0m\n",
      "\u001b[34m[0]#011train-logloss:0.66600#011validation-logloss:0.66593\u001b[0m\n",
      "\u001b[34m[1]#011train-logloss:0.64386#011validation-logloss:0.64361\u001b[0m\n",
      "\u001b[34m[2]#011train-logloss:0.62552#011validation-logloss:0.62528\u001b[0m\n",
      "\u001b[34m[3]#011train-logloss:0.61033#011validation-logloss:0.61016\u001b[0m\n",
      "\u001b[34m[4]#011train-logloss:0.59768#011validation-logloss:0.59758\u001b[0m\n",
      "\u001b[34m[5]#011train-logloss:0.58696#011validation-logloss:0.58708\u001b[0m\n",
      "\u001b[34m[6]#011train-logloss:0.57777#011validation-logloss:0.57803\u001b[0m\n",
      "\u001b[34m[7]#011train-logloss:0.56999#011validation-logloss:0.57058\u001b[0m\n",
      "\u001b[34m[8]#011train-logloss:0.56337#011validation-logloss:0.56418\u001b[0m\n",
      "\u001b[34m[9]#011train-logloss:0.55680#011validation-logloss:0.55797\u001b[0m\n",
      "\u001b[34m[10]#011train-logloss:0.55190#011validation-logloss:0.55349\u001b[0m\n",
      "\u001b[34m[11]#011train-logloss:0.54704#011validation-logloss:0.54890\u001b[0m\n",
      "\u001b[34m[12]#011train-logloss:0.54333#011validation-logloss:0.54548\u001b[0m\n",
      "\u001b[34m[13]#011train-logloss:0.54017#011validation-logloss:0.54260\u001b[0m\n",
      "\u001b[34m[14]#011train-logloss:0.53660#011validation-logloss:0.53948\u001b[0m\n",
      "\u001b[34m[15]#011train-logloss:0.53397#011validation-logloss:0.53718\u001b[0m\n",
      "\u001b[34m[16]#011train-logloss:0.53117#011validation-logloss:0.53457\u001b[0m\n",
      "\u001b[34m[17]#011train-logloss:0.52860#011validation-logloss:0.53244\u001b[0m\n",
      "\u001b[34m[18]#011train-logloss:0.52641#011validation-logloss:0.53059\u001b[0m\n",
      "\u001b[34m[19]#011train-logloss:0.52491#011validation-logloss:0.52920\u001b[0m\n",
      "\u001b[34m[20]#011train-logloss:0.52316#011validation-logloss:0.52771\u001b[0m\n",
      "\u001b[34m[21]#011train-logloss:0.52131#011validation-logloss:0.52638\u001b[0m\n",
      "\u001b[34m[22]#011train-logloss:0.51990#011validation-logloss:0.52514\u001b[0m\n",
      "\u001b[34m[23]#011train-logloss:0.51838#011validation-logloss:0.52398\u001b[0m\n",
      "\u001b[34m[24]#011train-logloss:0.51742#011validation-logloss:0.52345\u001b[0m\n",
      "\u001b[34m[25]#011train-logloss:0.51613#011validation-logloss:0.52247\u001b[0m\n",
      "\u001b[34m[26]#011train-logloss:0.51484#011validation-logloss:0.52168\u001b[0m\n",
      "\u001b[34m[27]#011train-logloss:0.51398#011validation-logloss:0.52124\u001b[0m\n",
      "\u001b[34m[28]#011train-logloss:0.51277#011validation-logloss:0.52049\u001b[0m\n",
      "\u001b[34m[29]#011train-logloss:0.51174#011validation-logloss:0.51998\u001b[0m\n",
      "\u001b[34m[30]#011train-logloss:0.51051#011validation-logloss:0.51943\u001b[0m\n",
      "\u001b[34m[31]#011train-logloss:0.50970#011validation-logloss:0.51919\u001b[0m\n",
      "\u001b[34m[32]#011train-logloss:0.50877#011validation-logloss:0.51885\u001b[0m\n",
      "\u001b[34m[33]#011train-logloss:0.50844#011validation-logloss:0.51876\u001b[0m\n",
      "\u001b[34m[34]#011train-logloss:0.50790#011validation-logloss:0.51858\u001b[0m\n",
      "\u001b[34m[35]#011train-logloss:0.50713#011validation-logloss:0.51815\u001b[0m\n",
      "\u001b[34m[36]#011train-logloss:0.50647#011validation-logloss:0.51793\u001b[0m\n",
      "\u001b[34m[37]#011train-logloss:0.50568#011validation-logloss:0.51772\u001b[0m\n",
      "\u001b[34m[38]#011train-logloss:0.50492#011validation-logloss:0.51728\u001b[0m\n",
      "\u001b[34m[39]#011train-logloss:0.50439#011validation-logloss:0.51715\u001b[0m\n",
      "\u001b[34m[40]#011train-logloss:0.50411#011validation-logloss:0.51721\u001b[0m\n",
      "\u001b[34m[41]#011train-logloss:0.50352#011validation-logloss:0.51721\u001b[0m\n",
      "\u001b[34m[42]#011train-logloss:0.50301#011validation-logloss:0.51707\u001b[0m\n",
      "\u001b[34m[43]#011train-logloss:0.50251#011validation-logloss:0.51701\u001b[0m\n",
      "\u001b[34m[44]#011train-logloss:0.50226#011validation-logloss:0.51694\u001b[0m\n",
      "\u001b[34m[45]#011train-logloss:0.50158#011validation-logloss:0.51646\u001b[0m\n",
      "\u001b[34m[46]#011train-logloss:0.50136#011validation-logloss:0.51643\u001b[0m\n",
      "\u001b[34m[47]#011train-logloss:0.50100#011validation-logloss:0.51645\u001b[0m\n",
      "\u001b[34m[48]#011train-logloss:0.50048#011validation-logloss:0.51647\u001b[0m\n",
      "\u001b[34m[49]#011train-logloss:0.50008#011validation-logloss:0.51650\u001b[0m\n",
      "\u001b[34m[50]#011train-logloss:0.49965#011validation-logloss:0.51650\u001b[0m\n",
      "\u001b[34m[51]#011train-logloss:0.49927#011validation-logloss:0.51637\u001b[0m\n",
      "\u001b[34m[52]#011train-logloss:0.49866#011validation-logloss:0.51626\u001b[0m\n",
      "\u001b[34m[53]#011train-logloss:0.49857#011validation-logloss:0.51630\u001b[0m\n",
      "\u001b[34m[54]#011train-logloss:0.49778#011validation-logloss:0.51613\u001b[0m\n",
      "\u001b[34m[55]#011train-logloss:0.49744#011validation-logloss:0.51604\u001b[0m\n",
      "\u001b[34m[56]#011train-logloss:0.49704#011validation-logloss:0.51596\u001b[0m\n",
      "\u001b[34m[57]#011train-logloss:0.49680#011validation-logloss:0.51601\u001b[0m\n",
      "\u001b[34m[58]#011train-logloss:0.49670#011validation-logloss:0.51602\u001b[0m\n",
      "\u001b[34m[59]#011train-logloss:0.49628#011validation-logloss:0.51601\u001b[0m\n",
      "\u001b[34m[60]#011train-logloss:0.49562#011validation-logloss:0.51597\u001b[0m\n",
      "\u001b[34m[61]#011train-logloss:0.49518#011validation-logloss:0.51593\u001b[0m\n",
      "\u001b[34m[62]#011train-logloss:0.49508#011validation-logloss:0.51585\u001b[0m\n",
      "\u001b[34m[63]#011train-logloss:0.49467#011validation-logloss:0.51585\u001b[0m\n",
      "\u001b[34m[64]#011train-logloss:0.49449#011validation-logloss:0.51590\u001b[0m\n",
      "\u001b[34m[65]#011train-logloss:0.49396#011validation-logloss:0.51592\u001b[0m\n",
      "\u001b[34m[66]#011train-logloss:0.49373#011validation-logloss:0.51597\u001b[0m\n",
      "\u001b[34m[67]#011train-logloss:0.49363#011validation-logloss:0.51592\u001b[0m\n",
      "\u001b[34m[68]#011train-logloss:0.49335#011validation-logloss:0.51603\u001b[0m\n",
      "\u001b[34m[69]#011train-logloss:0.49317#011validation-logloss:0.51601\u001b[0m\n",
      "\u001b[34m[70]#011train-logloss:0.49270#011validation-logloss:0.51605\u001b[0m\n",
      "\u001b[34m[71]#011train-logloss:0.49245#011validation-logloss:0.51595\u001b[0m\n",
      "\u001b[34m[72]#011train-logloss:0.49231#011validation-logloss:0.51597\u001b[0m\n",
      "\u001b[34m[73]#011train-logloss:0.49221#011validation-logloss:0.51594\u001b[0m\n",
      "\u001b[34m[74]#011train-logloss:0.49200#011validation-logloss:0.51600\u001b[0m\n",
      "\u001b[34m[75]#011train-logloss:0.49190#011validation-logloss:0.51598\u001b[0m\n",
      "\u001b[34m[76]#011train-logloss:0.49150#011validation-logloss:0.51586\u001b[0m\n",
      "\u001b[34m[77]#011train-logloss:0.49118#011validation-logloss:0.51600\u001b[0m\n",
      "\u001b[34m[78]#011train-logloss:0.49108#011validation-logloss:0.51606\u001b[0m\n",
      "\u001b[34m[79]#011train-logloss:0.49092#011validation-logloss:0.51617\u001b[0m\n",
      "\u001b[34m[80]#011train-logloss:0.49041#011validation-logloss:0.51609\u001b[0m\n",
      "\u001b[34m[81]#011train-logloss:0.49033#011validation-logloss:0.51609\u001b[0m\n",
      "\u001b[34m[82]#011train-logloss:0.49000#011validation-logloss:0.51605\u001b[0m\n",
      "\u001b[34m[83]#011train-logloss:0.48975#011validation-logloss:0.51609\u001b[0m\n",
      "\u001b[34m[84]#011train-logloss:0.48932#011validation-logloss:0.51610\u001b[0m\n",
      "\u001b[34m[85]#011train-logloss:0.48920#011validation-logloss:0.51621\u001b[0m\n",
      "\u001b[34m[86]#011train-logloss:0.48887#011validation-logloss:0.51620\u001b[0m\n",
      "\u001b[34m[87]#011train-logloss:0.48860#011validation-logloss:0.51618\u001b[0m\n",
      "\u001b[34m[88]#011train-logloss:0.48854#011validation-logloss:0.51615\u001b[0m\n",
      "\u001b[34m[89]#011train-logloss:0.48818#011validation-logloss:0.51629\u001b[0m\n",
      "\u001b[34m[90]#011train-logloss:0.48786#011validation-logloss:0.51645\u001b[0m\n",
      "\u001b[34m[91]#011train-logloss:0.48773#011validation-logloss:0.51641\u001b[0m\n",
      "\u001b[34m[92]#011train-logloss:0.48731#011validation-logloss:0.51656\u001b[0m\n",
      "\u001b[34m[93]#011train-logloss:0.48711#011validation-logloss:0.51657\u001b[0m\n",
      "\u001b[34m[94]#011train-logloss:0.48672#011validation-logloss:0.51664\u001b[0m\n",
      "\u001b[34m[95]#011train-logloss:0.48664#011validation-logloss:0.51669\u001b[0m\n",
      "\u001b[34m[96]#011train-logloss:0.48625#011validation-logloss:0.51655\u001b[0m\n",
      "\u001b[34m[97]#011train-logloss:0.48577#011validation-logloss:0.51655\u001b[0m\n",
      "\u001b[34m[98]#011train-logloss:0.48551#011validation-logloss:0.51665\u001b[0m\n",
      "\u001b[34m[99]#011train-logloss:0.48506#011validation-logloss:0.51647\u001b[0m\n",
      "\n",
      "2023-01-05 19:34:27 Uploading - Uploading generated training model\n",
      "2023-01-05 19:34:27 Completed - Training job completed\n",
      "Training seconds: 63\n",
      "Billable seconds: 63\n"
     ]
    }
   ],
   "source": [
    "#Fit the model\n",
    "tune_model.fit({\"train\": input_train, \"validation\": input_validation})"
   ]
  },
  {
   "cell_type": "markdown",
   "id": "4619bbc0-b2ba-481c-9f08-30f717aec921",
   "metadata": {
    "tags": []
   },
   "source": [
    "### Deploy the tuned model"
   ]
  },
  {
   "cell_type": "code",
   "execution_count": 74,
   "id": "80005458-9620-4474-a4b9-64b86f09efad",
   "metadata": {
    "tags": []
   },
   "outputs": [
    {
     "name": "stdout",
     "output_type": "stream",
     "text": [
      "-------!"
     ]
    }
   ],
   "source": [
    "xgb_tuned_predictor = tune_model.deploy(\n",
    "    initial_instance_count=1, instance_type=\"ml.m4.xlarge\", serializer=CSVSerializer()\n",
    ")"
   ]
  },
  {
   "cell_type": "code",
   "execution_count": null,
   "id": "9ec09bbb-2fb3-41df-a6b9-327de081f9ea",
   "metadata": {},
   "outputs": [],
   "source": [
    "#xgb_tuned_predictor.predict(validation_data.drop(['case_status'],axis=1))"
   ]
  },
  {
   "cell_type": "markdown",
   "id": "36ff5b1d-acd3-4360-9cef-e21a82ac2542",
   "metadata": {},
   "source": [
    "#### Save the predictions"
   ]
  },
  {
   "cell_type": "code",
   "execution_count": 76,
   "id": "4536a1b6-ceaf-4594-bb87-77302e5c463c",
   "metadata": {
    "tags": []
   },
   "outputs": [],
   "source": [
    "def predict(en_data, rows=500):\n",
    "    split_array = np.array_split(en_data, int(en_data.shape[0] / float(rows) + 1))\n",
    "    predictions = \"\"\n",
    "    for array in split_array:\n",
    "        predictions = \"\".join([predictions, xgb_tuned_predictor.predict(array).decode(\"utf-8\")])\n",
    "\n",
    "    return predictions.split(\"\\n\")[:-1]\n",
    "\n",
    "\n",
    "predictions = predict(validation_data.drop(['case_status'],axis=1).to_numpy())"
   ]
  },
  {
   "cell_type": "code",
   "execution_count": 77,
   "id": "ef702704-06a7-4acc-a729-5c0a44dad478",
   "metadata": {
    "tags": []
   },
   "outputs": [
    {
     "name": "stdout",
     "output_type": "stream",
     "text": [
      "[0.76051009 0.69261122 0.51291931 ... 0.94161266 0.75041068 0.41827521]\n"
     ]
    }
   ],
   "source": [
    "#Prediction\n",
    "predictions = np.array([float(num) for num in predictions])\n",
    "print(predictions)"
   ]
  },
  {
   "cell_type": "code",
   "execution_count": 78,
   "id": "79e18b1e-0c73-43db-ba44-63e7add3e35d",
   "metadata": {
    "tags": []
   },
   "outputs": [
    {
     "data": {
      "text/html": [
       "<div>\n",
       "<style scoped>\n",
       "    .dataframe tbody tr th:only-of-type {\n",
       "        vertical-align: middle;\n",
       "    }\n",
       "\n",
       "    .dataframe tbody tr th {\n",
       "        vertical-align: top;\n",
       "    }\n",
       "\n",
       "    .dataframe thead th {\n",
       "        text-align: right;\n",
       "    }\n",
       "</style>\n",
       "<table border=\"1\" class=\"dataframe\">\n",
       "  <thead>\n",
       "    <tr style=\"text-align: right;\">\n",
       "      <th></th>\n",
       "      <th>continent</th>\n",
       "      <th>education_of_employee</th>\n",
       "      <th>has_job_experience</th>\n",
       "      <th>requires_job_training</th>\n",
       "      <th>no_of_employees</th>\n",
       "      <th>yr_of_estab</th>\n",
       "      <th>region_of_employment</th>\n",
       "      <th>prevailing_wage</th>\n",
       "      <th>unit_of_wage</th>\n",
       "      <th>full_time_position</th>\n",
       "      <th>case_status</th>\n",
       "      <th>case_pred</th>\n",
       "    </tr>\n",
       "  </thead>\n",
       "  <tbody>\n",
       "    <tr>\n",
       "      <th>0</th>\n",
       "      <td>1</td>\n",
       "      <td>0</td>\n",
       "      <td>1</td>\n",
       "      <td>0</td>\n",
       "      <td>556</td>\n",
       "      <td>174</td>\n",
       "      <td>1</td>\n",
       "      <td>5248</td>\n",
       "      <td>3</td>\n",
       "      <td>1</td>\n",
       "      <td>1</td>\n",
       "      <td>1</td>\n",
       "    </tr>\n",
       "    <tr>\n",
       "      <th>1</th>\n",
       "      <td>4</td>\n",
       "      <td>0</td>\n",
       "      <td>0</td>\n",
       "      <td>0</td>\n",
       "      <td>607</td>\n",
       "      <td>120</td>\n",
       "      <td>1</td>\n",
       "      <td>11997</td>\n",
       "      <td>3</td>\n",
       "      <td>1</td>\n",
       "      <td>1</td>\n",
       "      <td>1</td>\n",
       "    </tr>\n",
       "    <tr>\n",
       "      <th>2</th>\n",
       "      <td>1</td>\n",
       "      <td>3</td>\n",
       "      <td>0</td>\n",
       "      <td>0</td>\n",
       "      <td>2614</td>\n",
       "      <td>187</td>\n",
       "      <td>3</td>\n",
       "      <td>2107</td>\n",
       "      <td>0</td>\n",
       "      <td>1</td>\n",
       "      <td>1</td>\n",
       "      <td>1</td>\n",
       "    </tr>\n",
       "    <tr>\n",
       "      <th>3</th>\n",
       "      <td>1</td>\n",
       "      <td>0</td>\n",
       "      <td>1</td>\n",
       "      <td>1</td>\n",
       "      <td>3154</td>\n",
       "      <td>168</td>\n",
       "      <td>2</td>\n",
       "      <td>8975</td>\n",
       "      <td>3</td>\n",
       "      <td>1</td>\n",
       "      <td>1</td>\n",
       "      <td>1</td>\n",
       "    </tr>\n",
       "    <tr>\n",
       "      <th>4</th>\n",
       "      <td>2</td>\n",
       "      <td>0</td>\n",
       "      <td>1</td>\n",
       "      <td>0</td>\n",
       "      <td>4557</td>\n",
       "      <td>110</td>\n",
       "      <td>4</td>\n",
       "      <td>9052</td>\n",
       "      <td>3</td>\n",
       "      <td>1</td>\n",
       "      <td>0</td>\n",
       "      <td>1</td>\n",
       "    </tr>\n",
       "  </tbody>\n",
       "</table>\n",
       "</div>"
      ],
      "text/plain": [
       "   continent  education_of_employee  has_job_experience  \\\n",
       "0          1                      0                   1   \n",
       "1          4                      0                   0   \n",
       "2          1                      3                   0   \n",
       "3          1                      0                   1   \n",
       "4          2                      0                   1   \n",
       "\n",
       "   requires_job_training  no_of_employees  yr_of_estab  region_of_employment  \\\n",
       "0                      0              556          174                     1   \n",
       "1                      0              607          120                     1   \n",
       "2                      0             2614          187                     3   \n",
       "3                      1             3154          168                     2   \n",
       "4                      0             4557          110                     4   \n",
       "\n",
       "   prevailing_wage  unit_of_wage  full_time_position  case_status  case_pred  \n",
       "0             5248             3                   1            1          1  \n",
       "1            11997             3                   1            1          1  \n",
       "2             2107             0                   1            1          1  \n",
       "3             8975             3                   1            1          1  \n",
       "4             9052             3                   1            0          1  "
      ]
     },
     "execution_count": 78,
     "metadata": {},
     "output_type": "execute_result"
    }
   ],
   "source": [
    "columns=np.round(predictions,0)\n",
    "predictions = pd.DataFrame(columns)\n",
    "test_y = validation_data['case_status']\n",
    "actual = test_y\n",
    "test_x = validation_data.drop(columns=['case_status'],axis=1)\n",
    "#Prediction column called case_pred\n",
    "predictions.columns =['case_pred']\n",
    "# Concatenate them into a single dataframe\n",
    "output = pd.concat([test_x.reset_index(drop=True),actual.reset_index(drop=True),predictions.reset_index(drop=True)],axis=1)\n",
    "output['case_pred'] = output['case_pred'].astype(int)\n",
    "output.head()"
   ]
  },
  {
   "cell_type": "markdown",
   "id": "f73350fe-0fc6-4f5e-8440-59dab1911fb3",
   "metadata": {
    "tags": []
   },
   "source": [
    "#### Evaluate the tuned model (compare performace with baseline model)"
   ]
  },
  {
   "cell_type": "markdown",
   "id": "cf85bd4e-6322-45a8-a6ea-6f6cad690617",
   "metadata": {},
   "source": [
    "Confusion Matrix"
   ]
  },
  {
   "cell_type": "code",
   "execution_count": 79,
   "id": "8f362d14-5e7c-4dea-b12c-fc2d306143ea",
   "metadata": {
    "tags": []
   },
   "outputs": [
    {
     "name": "stdout",
     "output_type": "stream",
     "text": [
      "[[1204 1258]\n",
      " [ 672 4510]]\n"
     ]
    }
   ],
   "source": [
    "matrix = confusion_matrix(output['case_status'], output['case_pred'])\n",
    "# Display matrix\n",
    "print(matrix)"
   ]
  },
  {
   "cell_type": "markdown",
   "id": "bbd7fbcf-9f98-45e6-a6ed-b3f221500171",
   "metadata": {
    "tags": []
   },
   "source": [
    "Accuracy Score\n"
   ]
  },
  {
   "cell_type": "code",
   "execution_count": 80,
   "id": "12b2f895-6386-40ba-8387-49633ced5705",
   "metadata": {},
   "outputs": [],
   "source": [
    "# Calculate TP, FP, FN, TN\n",
    "true_pos = matrix[0][0]\n",
    "fals_pos = matrix[0][1]\n",
    "fals_neg = matrix[1][0]\n",
    "true_neg = matrix[1][1]"
   ]
  },
  {
   "cell_type": "code",
   "execution_count": 81,
   "id": "e9c1d452-3dfa-4309-8049-55d21ab230fd",
   "metadata": {
    "tags": []
   },
   "outputs": [
    {
     "name": "stdout",
     "output_type": "stream",
     "text": [
      "0.7475143903715332\n"
     ]
    }
   ],
   "source": [
    "# Calulate Accuracy Score\n",
    "accuracy = (true_pos + true_neg) / (true_pos + fals_pos + fals_neg + true_neg)\n",
    "# Display score\n",
    "print(accuracy)"
   ]
  },
  {
   "cell_type": "markdown",
   "id": "5efdac32-5781-4e56-852c-3373168063d7",
   "metadata": {
    "tags": []
   },
   "source": [
    "Precision Score\n"
   ]
  },
  {
   "cell_type": "code",
   "execution_count": 82,
   "id": "5c2f0e2a-8611-4c3f-ad53-5a1c3958df78",
   "metadata": {},
   "outputs": [
    {
     "name": "stdout",
     "output_type": "stream",
     "text": [
      "0.4890333062550772\n"
     ]
    }
   ],
   "source": [
    "# Calculate Precision Score\n",
    "precision = true_pos / (true_pos + fals_pos)\n",
    "# Display score\n",
    "print(precision)"
   ]
  },
  {
   "cell_type": "markdown",
   "id": "edab5b5d-4ca5-4542-bc6b-16dd80ba86a4",
   "metadata": {
    "tags": []
   },
   "source": [
    "Recall Score\n"
   ]
  },
  {
   "cell_type": "code",
   "execution_count": 83,
   "id": "d2ed1183-7394-4dd2-9525-8727cd9bf923",
   "metadata": {},
   "outputs": [
    {
     "name": "stdout",
     "output_type": "stream",
     "text": [
      "0.6417910447761194\n"
     ]
    }
   ],
   "source": [
    "# Calculate Recall Score\n",
    "recall = true_pos / (true_pos + fals_neg)\n",
    "# Display score\n",
    "print(recall)"
   ]
  },
  {
   "cell_type": "markdown",
   "id": "61fa6501-bd68-4e2a-b6e7-bf6c1a23e1c4",
   "metadata": {
    "tags": []
   },
   "source": [
    "F1-score\n"
   ]
  },
  {
   "cell_type": "code",
   "execution_count": 84,
   "id": "b1894039-29f3-4187-b15b-98e071cac568",
   "metadata": {},
   "outputs": [
    {
     "name": "stdout",
     "output_type": "stream",
     "text": [
      "0.5550945136007376\n"
     ]
    }
   ],
   "source": [
    "# Calculate F1-score\n",
    "f1 = (2*precision*recall) / (precision + recall)\n",
    "# Display score\n",
    "print(f1)\n"
   ]
  },
  {
   "cell_type": "markdown",
   "id": "c85a0d21-4f81-4764-a251-9898c6d4c8da",
   "metadata": {
    "tags": []
   },
   "source": [
    "Calulate all performance metrics - after tuning\n"
   ]
  },
  {
   "cell_type": "code",
   "execution_count": 85,
   "id": "43bc98f9-0cd2-4fc0-b72a-a0b316ef02c2",
   "metadata": {},
   "outputs": [
    {
     "name": "stdout",
     "output_type": "stream",
     "text": [
      "accuracy:  before:0.75, after:0.75, %increment:0.00%\n",
      "precision: before:0.49, after:0.49, %increment:0.00%\n",
      "recall:    before:0.64, after:0.64, %increment:0.00%\n"
     ]
    }
   ],
   "source": [
    "# Calulate all performance metrics - after tuning\n",
    "accuracy_tuned = (true_pos + true_neg) / (true_pos + fals_pos + fals_neg + true_neg)\n",
    "precision_tuned = true_pos / (true_pos + fals_pos)\n",
    "recall_tuned = true_pos / (true_pos + fals_neg)\n",
    "\n",
    "# Display performance metrics before & after tuning, and the % increment achieved\n",
    "print(\"accuracy:  before:{:0.2f}, after:{:0.2f}, %increment:{:0.2f}%\".\n",
    "      format(accuracy,accuracy_tuned,(accuracy_tuned-accuracy)*100))\n",
    "print(\"precision: before:{:0.2f}, after:{:0.2f}, %increment:{:0.2f}%\".\n",
    "      format(precision,precision_tuned,(precision_tuned-precision)*100))\n",
    "print(\"recall:    before:{:0.2f}, after:{:0.2f}, %increment:{:0.2f}%\".\n",
    "      format(recall,recall_tuned,(recall_tuned-recall)*100))"
   ]
  },
  {
   "cell_type": "markdown",
   "id": "f5513f2b-eb3e-4e22-ab6c-8ef81bfa178b",
   "metadata": {},
   "source": [
    "### Observation"
   ]
  },
  {
   "cell_type": "markdown",
   "id": "c156cf96-2aa2-4ff1-890e-10a0e5f4fdcf",
   "metadata": {},
   "source": [
    "From the confusion matrix, the number of false positive is increasing by 4, while the number of false negative is decrease by 32. However, from the percentage calculation of accuracy, precision, and recall are the same before and after tuning. Therefore, this way of using new hyperparameters do not improve the model performance."
   ]
  },
  {
   "cell_type": "markdown",
   "id": "636168e5-208a-405f-b212-46d919cc7ffd",
   "metadata": {},
   "source": [
    "### Delete the Endpoint\n"
   ]
  },
  {
   "cell_type": "code",
   "execution_count": 86,
   "id": "2dea1e93-7e56-44a0-bc18-e11b490d608c",
   "metadata": {},
   "outputs": [],
   "source": [
    "xgb_predictor.delete_endpoint(delete_endpoint_config=True)"
   ]
  },
  {
   "cell_type": "code",
   "execution_count": 87,
   "id": "643f15f0-126d-463a-aae6-0c96597ad086",
   "metadata": {
    "tags": []
   },
   "outputs": [],
   "source": [
    "xgb_tuned_predictor.delete_endpoint(delete_endpoint_config=True)"
   ]
  },
  {
   "cell_type": "markdown",
   "id": "272fcebc-7b89-434f-a2a5-af6cc1d2bab7",
   "metadata": {},
   "source": [
    "## Recomendation"
   ]
  },
  {
   "cell_type": "markdown",
   "id": "4357bf12-7cf6-46f8-95e8-2c4796d69832",
   "metadata": {},
   "source": [
    "To improve the model performance;  \n",
    "\n",
    "1.We resplit the data to train and validation set with different proportion.  \n",
    "2.We can use different models to train the data, forexample using classification method such as logistic regression, AdaBoostClassifier, decision tree, random forest and neural network."
   ]
  },
  {
   "cell_type": "code",
   "execution_count": null,
   "id": "3a463d2c-a957-492a-af28-129712a840d5",
   "metadata": {},
   "outputs": [],
   "source": []
  }
 ],
 "metadata": {
  "instance_type": "ml.t3.medium",
  "kernelspec": {
   "display_name": "Python 3 (Data Science)",
   "language": "python",
   "name": "python3__SAGEMAKER_INTERNAL__arn:aws:sagemaker:us-east-1:081325390199:image/datascience-1.0"
  },
  "language_info": {
   "codemirror_mode": {
    "name": "ipython",
    "version": 3
   },
   "file_extension": ".py",
   "mimetype": "text/x-python",
   "name": "python",
   "nbconvert_exporter": "python",
   "pygments_lexer": "ipython3",
   "version": "3.7.10"
  }
 },
 "nbformat": 4,
 "nbformat_minor": 5
}
